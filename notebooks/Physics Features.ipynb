{
 "cells": [
  {
   "cell_type": "markdown",
   "metadata": {},
   "source": [
    "# Physics Features\n",
    "In this notebook, we explore the use of domain based knowledge to derive additional new features. We present the formulas that we have derived from existing features and correspondingly generate and identify the new distribution of data created."
   ]
  },
  {
   "cell_type": "code",
   "execution_count": 3,
   "metadata": {},
   "outputs": [],
   "source": [
    "import math\n",
    "import numpy as np\n",
    "import pandas as pd\n",
    "from astropy.io import ascii\n",
    "import matplotlib.pyplot as plt"
   ]
  },
  {
   "cell_type": "code",
   "execution_count": 2,
   "metadata": {},
   "outputs": [
    {
     "name": "stderr",
     "output_type": "stream",
     "text": [
      "/Users/yutarochan/Library/Python/3.6/lib/python/site-packages/IPython/core/interactiveshell.py:2963: TableReplaceWarning: converted column 'Fit_Provenance' from integer to float\n",
      "  exec(code_obj, self.user_global_ns, self.user_ns)\n"
     ]
    },
    {
     "data": {
      "text/html": [
       "<div>\n",
       "<style scoped>\n",
       "    .dataframe tbody tr th:only-of-type {\n",
       "        vertical-align: middle;\n",
       "    }\n",
       "\n",
       "    .dataframe tbody tr th {\n",
       "        vertical-align: top;\n",
       "    }\n",
       "\n",
       "    .dataframe thead th {\n",
       "        text-align: right;\n",
       "    }\n",
       "</style>\n",
       "<table border=\"1\" class=\"dataframe\">\n",
       "  <thead>\n",
       "    <tr style=\"text-align: right;\">\n",
       "      <th></th>\n",
       "      <th>KIC_ID</th>\n",
       "      <th>Sky_Group</th>\n",
       "      <th>i_period</th>\n",
       "      <th>i_epoch</th>\n",
       "      <th>N_Transit</th>\n",
       "      <th>i_depth</th>\n",
       "      <th>i_dur</th>\n",
       "      <th>i_b</th>\n",
       "      <th>i_ror</th>\n",
       "      <th>i_dor</th>\n",
       "      <th>...</th>\n",
       "      <th>TCE_ID</th>\n",
       "      <th>Measured_MES</th>\n",
       "      <th>r_period</th>\n",
       "      <th>r_epoch</th>\n",
       "      <th>r_depth</th>\n",
       "      <th>r_dur</th>\n",
       "      <th>r_b</th>\n",
       "      <th>r_ror</th>\n",
       "      <th>r_dor</th>\n",
       "      <th>Fit_Provenance</th>\n",
       "    </tr>\n",
       "  </thead>\n",
       "  <tbody>\n",
       "    <tr>\n",
       "      <th>0</th>\n",
       "      <td>11445144</td>\n",
       "      <td>8</td>\n",
       "      <td>70.0385</td>\n",
       "      <td>107.4886</td>\n",
       "      <td>0.9808</td>\n",
       "      <td>1662.0</td>\n",
       "      <td>4.02030</td>\n",
       "      <td>0.4141</td>\n",
       "      <td>0.0306</td>\n",
       "      <td>126.498</td>\n",
       "      <td>...</td>\n",
       "      <td>NaN</td>\n",
       "      <td>NaN</td>\n",
       "      <td>NaN</td>\n",
       "      <td>NaN</td>\n",
       "      <td>NaN</td>\n",
       "      <td>NaN</td>\n",
       "      <td>NaN</td>\n",
       "      <td>NaN</td>\n",
       "      <td>NaN</td>\n",
       "      <td>NaN</td>\n",
       "    </tr>\n",
       "    <tr>\n",
       "      <th>1</th>\n",
       "      <td>11496840</td>\n",
       "      <td>8</td>\n",
       "      <td>87.8829</td>\n",
       "      <td>103.9753</td>\n",
       "      <td>0.9808</td>\n",
       "      <td>1561.0</td>\n",
       "      <td>2.20705</td>\n",
       "      <td>0.7649</td>\n",
       "      <td>0.0350</td>\n",
       "      <td>214.397</td>\n",
       "      <td>...</td>\n",
       "      <td>NaN</td>\n",
       "      <td>NaN</td>\n",
       "      <td>NaN</td>\n",
       "      <td>NaN</td>\n",
       "      <td>NaN</td>\n",
       "      <td>NaN</td>\n",
       "      <td>NaN</td>\n",
       "      <td>NaN</td>\n",
       "      <td>NaN</td>\n",
       "      <td>NaN</td>\n",
       "    </tr>\n",
       "    <tr>\n",
       "      <th>2</th>\n",
       "      <td>11497236</td>\n",
       "      <td>8</td>\n",
       "      <td>88.3020</td>\n",
       "      <td>84.4552</td>\n",
       "      <td>0.9808</td>\n",
       "      <td>1332.0</td>\n",
       "      <td>2.11234</td>\n",
       "      <td>0.8100</td>\n",
       "      <td>0.0334</td>\n",
       "      <td>207.336</td>\n",
       "      <td>...</td>\n",
       "      <td>NaN</td>\n",
       "      <td>NaN</td>\n",
       "      <td>NaN</td>\n",
       "      <td>NaN</td>\n",
       "      <td>NaN</td>\n",
       "      <td>NaN</td>\n",
       "      <td>NaN</td>\n",
       "      <td>NaN</td>\n",
       "      <td>NaN</td>\n",
       "      <td>NaN</td>\n",
       "    </tr>\n",
       "    <tr>\n",
       "      <th>3</th>\n",
       "      <td>11548779</td>\n",
       "      <td>8</td>\n",
       "      <td>35.4942</td>\n",
       "      <td>73.9562</td>\n",
       "      <td>2.9425</td>\n",
       "      <td>686.0</td>\n",
       "      <td>1.00655</td>\n",
       "      <td>0.8915</td>\n",
       "      <td>0.0247</td>\n",
       "      <td>138.661</td>\n",
       "      <td>...</td>\n",
       "      <td>NaN</td>\n",
       "      <td>NaN</td>\n",
       "      <td>NaN</td>\n",
       "      <td>NaN</td>\n",
       "      <td>NaN</td>\n",
       "      <td>NaN</td>\n",
       "      <td>NaN</td>\n",
       "      <td>NaN</td>\n",
       "      <td>NaN</td>\n",
       "      <td>NaN</td>\n",
       "    </tr>\n",
       "    <tr>\n",
       "      <th>4</th>\n",
       "      <td>11600744</td>\n",
       "      <td>8</td>\n",
       "      <td>48.8212</td>\n",
       "      <td>97.2396</td>\n",
       "      <td>23.2943</td>\n",
       "      <td>372.0</td>\n",
       "      <td>1.77915</td>\n",
       "      <td>0.8738</td>\n",
       "      <td>0.0183</td>\n",
       "      <td>110.768</td>\n",
       "      <td>...</td>\n",
       "      <td>NaN</td>\n",
       "      <td>NaN</td>\n",
       "      <td>NaN</td>\n",
       "      <td>NaN</td>\n",
       "      <td>NaN</td>\n",
       "      <td>NaN</td>\n",
       "      <td>NaN</td>\n",
       "      <td>NaN</td>\n",
       "      <td>NaN</td>\n",
       "      <td>NaN</td>\n",
       "    </tr>\n",
       "  </tbody>\n",
       "</table>\n",
       "<p>5 rows × 25 columns</p>\n",
       "</div>"
      ],
      "text/plain": [
       "     KIC_ID  Sky_Group  i_period   i_epoch  N_Transit  i_depth    i_dur  \\\n",
       "0  11445144          8   70.0385  107.4886     0.9808   1662.0  4.02030   \n",
       "1  11496840          8   87.8829  103.9753     0.9808   1561.0  2.20705   \n",
       "2  11497236          8   88.3020   84.4552     0.9808   1332.0  2.11234   \n",
       "3  11548779          8   35.4942   73.9562     2.9425    686.0  1.00655   \n",
       "4  11600744          8   48.8212   97.2396    23.2943    372.0  1.77915   \n",
       "\n",
       "      i_b   i_ror    i_dor       ...        TCE_ID  Measured_MES  r_period  \\\n",
       "0  0.4141  0.0306  126.498       ...           NaN           NaN       NaN   \n",
       "1  0.7649  0.0350  214.397       ...           NaN           NaN       NaN   \n",
       "2  0.8100  0.0334  207.336       ...           NaN           NaN       NaN   \n",
       "3  0.8915  0.0247  138.661       ...           NaN           NaN       NaN   \n",
       "4  0.8738  0.0183  110.768       ...           NaN           NaN       NaN   \n",
       "\n",
       "   r_epoch  r_depth r_dur  r_b  r_ror  r_dor  Fit_Provenance  \n",
       "0      NaN      NaN   NaN  NaN    NaN    NaN             NaN  \n",
       "1      NaN      NaN   NaN  NaN    NaN    NaN             NaN  \n",
       "2      NaN      NaN   NaN  NaN    NaN    NaN             NaN  \n",
       "3      NaN      NaN   NaN  NaN    NaN    NaN             NaN  \n",
       "4      NaN      NaN   NaN  NaN    NaN    NaN             NaN  \n",
       "\n",
       "[5 rows x 25 columns]"
      ]
     },
     "execution_count": 2,
     "metadata": {},
     "output_type": "execute_result"
    }
   ],
   "source": [
    "# Load Dataset\n",
    "raw_data = ascii.read('../data/raw/plti/kplr_dr25_inj1_plti.txt')\n",
    "df = raw_data.to_pandas()\n",
    "\n",
    "df.head()"
   ]
  },
  {
   "cell_type": "markdown",
   "metadata": {},
   "source": [
    "## Mean Density\n",
    "$\\rho = \\dfrac{3T^2}{16G\\pi^3R^3}$\n",
    "* $T$: Period\n",
    "* $G$: Universal Gravitational Constant\n",
    "* $R$: Ratio between `i_ror` and `i_dor`\n",
    "\n",
    "Due to the large distribution of the data, we may have to transform this quantity into the log-space."
   ]
  },
  {
   "cell_type": "code",
   "execution_count": 31,
   "metadata": {},
   "outputs": [],
   "source": [
    "G = 6.67408e-11\n",
    "df['rho'] = (3 * df['i_period']**2) / (16 * G * math.pi**3 * (df['i_dor']/df['i_ror'])**3)"
   ]
  },
  {
   "cell_type": "code",
   "execution_count": 32,
   "metadata": {},
   "outputs": [
    {
     "data": {
      "text/plain": [
       "count    1.462940e+05\n",
       "mean     1.050328e+07\n",
       "std      3.918169e+09\n",
       "min      0.000000e+00\n",
       "25%      3.565519e+00\n",
       "50%      8.605198e+00\n",
       "75%      2.760636e+01\n",
       "max      1.498621e+12\n",
       "Name: rho, dtype: float64"
      ]
     },
     "execution_count": 32,
     "metadata": {},
     "output_type": "execute_result"
    }
   ],
   "source": [
    "df['rho'].describe()"
   ]
  },
  {
   "cell_type": "code",
   "execution_count": 33,
   "metadata": {},
   "outputs": [
    {
     "data": {
      "image/png": "[encoded data removed]",
      "text/plain": [
       "<Figure size 432x288 with 1 Axes>"
      ]
     },
     "metadata": {},
     "output_type": "display_data"
    }
   ],
   "source": [
    "df['rho'].hist(bins=100)\n",
    "plt.show()"
   ]
  }
 ],
 "metadata": {
  "kernelspec": {
   "display_name": "Python 3",
   "language": "python",
   "name": "python3"
  },
  "language_info": {
   "codemirror_mode": {
    "name": "ipython",
    "version": 3
   },
   "file_extension": ".py",
   "mimetype": "text/x-python",
   "name": "python",
   "nbconvert_exporter": "python",
   "pygments_lexer": "ipython3",
   "version": "3.6.5"
  }
 },
 "nbformat": 4,
 "nbformat_minor": 2
}
