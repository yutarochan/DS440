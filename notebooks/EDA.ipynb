{
 "cells": [
  {
   "cell_type": "markdown",
   "metadata": {},
   "source": [
    "# Planet Prediction\n",
    "## Exploratory Data Analysis Notebook"
   ]
  },
  {
   "cell_type": "code",
   "execution_count": 1,
   "metadata": {},
   "outputs": [],
   "source": [
    "import numpy as np\n",
    "import pandas as pd\n",
    "from astropy.io import ascii\n",
    "import matplotlib.pyplot as plt"
   ]
  },
  {
   "cell_type": "code",
   "execution_count": 2,
   "metadata": {},
   "outputs": [
    {
     "name": "stderr",
     "output_type": "stream",
     "text": [
      "/usr/local/lib/python3.6/dist-packages/IPython/core/interactiveshell.py:2961: TableReplaceWarning: converted column 'Fit_Provenance' from integer to float\n",
      "  exec(code_obj, self.user_global_ns, self.user_ns)\n"
     ]
    },
    {
     "data": {
      "text/html": [
       "<div>\n",
       "<style scoped>\n",
       "    .dataframe tbody tr th:only-of-type {\n",
       "        vertical-align: middle;\n",
       "    }\n",
       "\n",
       "    .dataframe tbody tr th {\n",
       "        vertical-align: top;\n",
       "    }\n",
       "\n",
       "    .dataframe thead th {\n",
       "        text-align: right;\n",
       "    }\n",
       "</style>\n",
       "<table border=\"1\" class=\"dataframe\">\n",
       "  <thead>\n",
       "    <tr style=\"text-align: right;\">\n",
       "      <th></th>\n",
       "      <th>KIC_ID</th>\n",
       "      <th>Sky_Group</th>\n",
       "      <th>i_period</th>\n",
       "      <th>i_epoch</th>\n",
       "      <th>N_Transit</th>\n",
       "      <th>i_depth</th>\n",
       "      <th>i_dur</th>\n",
       "      <th>i_b</th>\n",
       "      <th>i_ror</th>\n",
       "      <th>i_dor</th>\n",
       "      <th>...</th>\n",
       "      <th>TCE_ID</th>\n",
       "      <th>Measured_MES</th>\n",
       "      <th>r_period</th>\n",
       "      <th>r_epoch</th>\n",
       "      <th>r_depth</th>\n",
       "      <th>r_dur</th>\n",
       "      <th>r_b</th>\n",
       "      <th>r_ror</th>\n",
       "      <th>r_dor</th>\n",
       "      <th>Fit_Provenance</th>\n",
       "    </tr>\n",
       "  </thead>\n",
       "  <tbody>\n",
       "    <tr>\n",
       "      <th>0</th>\n",
       "      <td>11445144</td>\n",
       "      <td>8</td>\n",
       "      <td>70.0385</td>\n",
       "      <td>107.4886</td>\n",
       "      <td>0.9808</td>\n",
       "      <td>1662.0</td>\n",
       "      <td>4.02030</td>\n",
       "      <td>0.4141</td>\n",
       "      <td>0.0306</td>\n",
       "      <td>126.498</td>\n",
       "      <td>...</td>\n",
       "      <td>NaN</td>\n",
       "      <td>NaN</td>\n",
       "      <td>NaN</td>\n",
       "      <td>NaN</td>\n",
       "      <td>NaN</td>\n",
       "      <td>NaN</td>\n",
       "      <td>NaN</td>\n",
       "      <td>NaN</td>\n",
       "      <td>NaN</td>\n",
       "      <td>NaN</td>\n",
       "    </tr>\n",
       "    <tr>\n",
       "      <th>1</th>\n",
       "      <td>11496840</td>\n",
       "      <td>8</td>\n",
       "      <td>87.8829</td>\n",
       "      <td>103.9753</td>\n",
       "      <td>0.9808</td>\n",
       "      <td>1561.0</td>\n",
       "      <td>2.20705</td>\n",
       "      <td>0.7649</td>\n",
       "      <td>0.0350</td>\n",
       "      <td>214.397</td>\n",
       "      <td>...</td>\n",
       "      <td>NaN</td>\n",
       "      <td>NaN</td>\n",
       "      <td>NaN</td>\n",
       "      <td>NaN</td>\n",
       "      <td>NaN</td>\n",
       "      <td>NaN</td>\n",
       "      <td>NaN</td>\n",
       "      <td>NaN</td>\n",
       "      <td>NaN</td>\n",
       "      <td>NaN</td>\n",
       "    </tr>\n",
       "    <tr>\n",
       "      <th>2</th>\n",
       "      <td>11497236</td>\n",
       "      <td>8</td>\n",
       "      <td>88.3020</td>\n",
       "      <td>84.4552</td>\n",
       "      <td>0.9808</td>\n",
       "      <td>1332.0</td>\n",
       "      <td>2.11234</td>\n",
       "      <td>0.8100</td>\n",
       "      <td>0.0334</td>\n",
       "      <td>207.336</td>\n",
       "      <td>...</td>\n",
       "      <td>NaN</td>\n",
       "      <td>NaN</td>\n",
       "      <td>NaN</td>\n",
       "      <td>NaN</td>\n",
       "      <td>NaN</td>\n",
       "      <td>NaN</td>\n",
       "      <td>NaN</td>\n",
       "      <td>NaN</td>\n",
       "      <td>NaN</td>\n",
       "      <td>NaN</td>\n",
       "    </tr>\n",
       "    <tr>\n",
       "      <th>3</th>\n",
       "      <td>11548779</td>\n",
       "      <td>8</td>\n",
       "      <td>35.4942</td>\n",
       "      <td>73.9562</td>\n",
       "      <td>2.9425</td>\n",
       "      <td>686.0</td>\n",
       "      <td>1.00655</td>\n",
       "      <td>0.8915</td>\n",
       "      <td>0.0247</td>\n",
       "      <td>138.661</td>\n",
       "      <td>...</td>\n",
       "      <td>NaN</td>\n",
       "      <td>NaN</td>\n",
       "      <td>NaN</td>\n",
       "      <td>NaN</td>\n",
       "      <td>NaN</td>\n",
       "      <td>NaN</td>\n",
       "      <td>NaN</td>\n",
       "      <td>NaN</td>\n",
       "      <td>NaN</td>\n",
       "      <td>NaN</td>\n",
       "    </tr>\n",
       "    <tr>\n",
       "      <th>4</th>\n",
       "      <td>11600744</td>\n",
       "      <td>8</td>\n",
       "      <td>48.8212</td>\n",
       "      <td>97.2396</td>\n",
       "      <td>23.2943</td>\n",
       "      <td>372.0</td>\n",
       "      <td>1.77915</td>\n",
       "      <td>0.8738</td>\n",
       "      <td>0.0183</td>\n",
       "      <td>110.768</td>\n",
       "      <td>...</td>\n",
       "      <td>NaN</td>\n",
       "      <td>NaN</td>\n",
       "      <td>NaN</td>\n",
       "      <td>NaN</td>\n",
       "      <td>NaN</td>\n",
       "      <td>NaN</td>\n",
       "      <td>NaN</td>\n",
       "      <td>NaN</td>\n",
       "      <td>NaN</td>\n",
       "      <td>NaN</td>\n",
       "    </tr>\n",
       "  </tbody>\n",
       "</table>\n",
       "<p>5 rows × 25 columns</p>\n",
       "</div>"
      ],
      "text/plain": [
       "     KIC_ID  Sky_Group  i_period   i_epoch  N_Transit  i_depth    i_dur  \\\n",
       "0  11445144          8   70.0385  107.4886     0.9808   1662.0  4.02030   \n",
       "1  11496840          8   87.8829  103.9753     0.9808   1561.0  2.20705   \n",
       "2  11497236          8   88.3020   84.4552     0.9808   1332.0  2.11234   \n",
       "3  11548779          8   35.4942   73.9562     2.9425    686.0  1.00655   \n",
       "4  11600744          8   48.8212   97.2396    23.2943    372.0  1.77915   \n",
       "\n",
       "      i_b   i_ror    i_dor       ...        TCE_ID  Measured_MES  r_period  \\\n",
       "0  0.4141  0.0306  126.498       ...           NaN           NaN       NaN   \n",
       "1  0.7649  0.0350  214.397       ...           NaN           NaN       NaN   \n",
       "2  0.8100  0.0334  207.336       ...           NaN           NaN       NaN   \n",
       "3  0.8915  0.0247  138.661       ...           NaN           NaN       NaN   \n",
       "4  0.8738  0.0183  110.768       ...           NaN           NaN       NaN   \n",
       "\n",
       "   r_epoch  r_depth r_dur  r_b  r_ror  r_dor  Fit_Provenance  \n",
       "0      NaN      NaN   NaN  NaN    NaN    NaN             NaN  \n",
       "1      NaN      NaN   NaN  NaN    NaN    NaN             NaN  \n",
       "2      NaN      NaN   NaN  NaN    NaN    NaN             NaN  \n",
       "3      NaN      NaN   NaN  NaN    NaN    NaN             NaN  \n",
       "4      NaN      NaN   NaN  NaN    NaN    NaN             NaN  \n",
       "\n",
       "[5 rows x 25 columns]"
      ]
     },
     "execution_count": 2,
     "metadata": {},
     "output_type": "execute_result"
    }
   ],
   "source": [
    "# Load Dataset\n",
    "raw_data = ascii.read('../data/raw/plti/kplr_dr25_inj1_plti.txt')\n",
    "df = raw_data.to_pandas()\n",
    "\n",
    "df.head()"
   ]
  },
  {
   "cell_type": "markdown",
   "metadata": {},
   "source": [
    "### NaN Count"
   ]
  },
  {
   "cell_type": "code",
   "execution_count": 3,
   "metadata": {},
   "outputs": [
    {
     "data": {
      "text/plain": [
       "KIC_ID                     0\n",
       "Sky_Group                  0\n",
       "i_period                   0\n",
       "i_epoch                    0\n",
       "N_Transit                  0\n",
       "i_depth                    0\n",
       "i_dur                      0\n",
       "i_b                        0\n",
       "i_ror                      0\n",
       "i_dor                      0\n",
       "EB_injection               0\n",
       "Offset_from_source         0\n",
       "Offset_distance            0\n",
       "Expected_MES              37\n",
       "Recovered                  0\n",
       "TCE_ID                100917\n",
       "Measured_MES          100917\n",
       "r_period              100917\n",
       "r_epoch               100917\n",
       "r_depth               100917\n",
       "r_dur                 100917\n",
       "r_b                   100917\n",
       "r_ror                 100917\n",
       "r_dor                 100917\n",
       "Fit_Provenance        100917\n",
       "dtype: int64"
      ]
     },
     "execution_count": 3,
     "metadata": {},
     "output_type": "execute_result"
    }
   ],
   "source": [
    "df.isna().sum()"
   ]
  },
  {
   "cell_type": "markdown",
   "metadata": {},
   "source": [
    "## Independent Variable Analysis\n",
    "We preform a simple analysis of each feature in the dataset. Specifically we look at all distributions and simple statistics of the dataset"
   ]
  },
  {
   "cell_type": "markdown",
   "metadata": {},
   "source": [
    "### Sky Group"
   ]
  },
  {
   "cell_type": "code",
   "execution_count": 4,
   "metadata": {},
   "outputs": [
    {
     "data": {
      "text/plain": [
       "count    146294.000000\n",
       "mean         45.655775\n",
       "std          23.880388\n",
       "min           1.000000\n",
       "25%          27.000000\n",
       "50%          45.000000\n",
       "75%          66.000000\n",
       "max          84.000000\n",
       "Name: Sky_Group, dtype: float64"
      ]
     },
     "execution_count": 4,
     "metadata": {},
     "output_type": "execute_result"
    }
   ],
   "source": [
    "df['Sky_Group'].describe()"
   ]
  },
  {
   "cell_type": "code",
   "execution_count": 5,
   "metadata": {},
   "outputs": [
    {
     "data": {
      "image/png": "[encoded data removed]",
      "text/plain": [
       "<Figure size 432x288 with 1 Axes>"
      ]
     },
     "metadata": {
      "needs_background": "light"
     },
     "output_type": "display_data"
    }
   ],
   "source": [
    "# Plot Distribution of Sky Group\n",
    "df['Sky_Group'].hist(bins=84)\n",
    "plt.show()"
   ]
  },
  {
   "cell_type": "markdown",
   "metadata": {},
   "source": [
    "### Input Period"
   ]
  },
  {
   "cell_type": "code",
   "execution_count": 6,
   "metadata": {},
   "outputs": [
    {
     "data": {
      "text/plain": [
       "count    146294.000000\n",
       "mean        240.811542\n",
       "std         145.475269\n",
       "min           0.502700\n",
       "25%         111.653375\n",
       "50%         237.599700\n",
       "75%         365.994700\n",
       "max         499.997600\n",
       "Name: i_period, dtype: float64"
      ]
     },
     "execution_count": 6,
     "metadata": {},
     "output_type": "execute_result"
    }
   ],
   "source": [
    "df['i_period'].describe()"
   ]
  },
  {
   "cell_type": "code",
   "execution_count": 7,
   "metadata": {},
   "outputs": [
    {
     "data": {
      "image/png": "[encoded data removed]",
      "text/plain": [
       "<Figure size 432x288 with 1 Axes>"
      ]
     },
     "metadata": {
      "needs_background": "light"
     },
     "output_type": "display_data"
    }
   ],
   "source": [
    "df['i_period'].hist(bins=20)\n",
    "plt.show()"
   ]
  },
  {
   "cell_type": "markdown",
   "metadata": {},
   "source": [
    "### Input Epoch"
   ]
  },
  {
   "cell_type": "code",
   "execution_count": 8,
   "metadata": {},
   "outputs": [
    {
     "data": {
      "text/plain": [
       "count    146294.000000\n",
       "mean        185.547511\n",
       "std         108.868803\n",
       "min          64.998300\n",
       "25%          95.959525\n",
       "50%         153.055200\n",
       "75%         249.615575\n",
       "max         564.521100\n",
       "Name: i_epoch, dtype: float64"
      ]
     },
     "execution_count": 8,
     "metadata": {},
     "output_type": "execute_result"
    }
   ],
   "source": [
    "df['i_epoch'].describe()"
   ]
  },
  {
   "cell_type": "code",
   "execution_count": 9,
   "metadata": {},
   "outputs": [
    {
     "data": {
      "image/png": "[encoded data removed]",
      "text/plain": [
       "<Figure size 432x288 with 1 Axes>"
      ]
     },
     "metadata": {
      "needs_background": "light"
     },
     "output_type": "display_data"
    }
   ],
   "source": [
    "df['i_epoch'].hist(bins=20)\n",
    "plt.show()"
   ]
  },
  {
   "cell_type": "markdown",
   "metadata": {},
   "source": [
    "### Number of Transit"
   ]
  },
  {
   "cell_type": "code",
   "execution_count": 10,
   "metadata": {},
   "outputs": [
    {
     "data": {
      "text/plain": [
       "count    146294.000000\n",
       "mean         17.726244\n",
       "std          80.199694\n",
       "min           0.000000\n",
       "25%           3.040500\n",
       "50%           5.002200\n",
       "75%          10.080700\n",
       "max        2760.333100\n",
       "Name: N_Transit, dtype: float64"
      ]
     },
     "execution_count": 10,
     "metadata": {},
     "output_type": "execute_result"
    }
   ],
   "source": [
    "df['N_Transit'].describe()"
   ]
  },
  {
   "cell_type": "code",
   "execution_count": 11,
   "metadata": {},
   "outputs": [
    {
     "data": {
      "image/png": "[encoded data removed]",
      "text/plain": [
       "<Figure size 432x288 with 1 Axes>"
      ]
     },
     "metadata": {
      "needs_background": "light"
     },
     "output_type": "display_data"
    }
   ],
   "source": [
    "df['N_Transit'].hist(bins=50)\n",
    "plt.show()"
   ]
  },
  {
   "cell_type": "markdown",
   "metadata": {},
   "source": [
    "### Input Depth"
   ]
  },
  {
   "cell_type": "code",
   "execution_count": 12,
   "metadata": {},
   "outputs": [
    {
     "data": {
      "text/plain": [
       "count    146294.000000\n",
       "mean        721.151558\n",
       "std        4200.519996\n",
       "min           0.000000\n",
       "25%         234.000000\n",
       "50%         432.000000\n",
       "75%         770.000000\n",
       "max      923056.000000\n",
       "Name: i_depth, dtype: float64"
      ]
     },
     "execution_count": 12,
     "metadata": {},
     "output_type": "execute_result"
    }
   ],
   "source": [
    "df['i_depth'].describe()"
   ]
  },
  {
   "cell_type": "code",
   "execution_count": 13,
   "metadata": {},
   "outputs": [
    {
     "data": {
      "image/png": "[encoded data removed]",
      "text/plain": [
       "<Figure size 432x288 with 1 Axes>"
      ]
     },
     "metadata": {
      "needs_background": "light"
     },
     "output_type": "display_data"
    }
   ],
   "source": [
    "df['i_depth'].hist(bins=20)\n",
    "plt.show()"
   ]
  },
  {
   "cell_type": "markdown",
   "metadata": {},
   "source": [
    "### Input Duration"
   ]
  },
  {
   "cell_type": "code",
   "execution_count": 14,
   "metadata": {},
   "outputs": [
    {
     "data": {
      "text/plain": [
       "count    146294.000000\n",
       "mean         27.579884\n",
       "std         109.667362\n",
       "min           0.217420\n",
       "25%           6.389128\n",
       "50%           9.548950\n",
       "75%          13.629950\n",
       "max        3142.898300\n",
       "Name: i_dur, dtype: float64"
      ]
     },
     "execution_count": 14,
     "metadata": {},
     "output_type": "execute_result"
    }
   ],
   "source": [
    "df['i_dur'].describe()"
   ]
  },
  {
   "cell_type": "code",
   "execution_count": 15,
   "metadata": {},
   "outputs": [
    {
     "data": {
      "image/png": "[encoded data removed]",
      "text/plain": [
       "<Figure size 432x288 with 1 Axes>"
      ]
     },
     "metadata": {
      "needs_background": "light"
     },
     "output_type": "display_data"
    }
   ],
   "source": [
    "df['i_dur'].hist(bins=30)\n",
    "plt.show()"
   ]
  },
  {
   "cell_type": "markdown",
   "metadata": {},
   "source": [
    "### Impact of Parameter"
   ]
  },
  {
   "cell_type": "code",
   "execution_count": 16,
   "metadata": {},
   "outputs": [
    {
     "data": {
      "text/plain": [
       "count    146294.000000\n",
       "mean          0.499279\n",
       "std           0.288493\n",
       "min           0.000000\n",
       "25%           0.249600\n",
       "50%           0.500400\n",
       "75%           0.748500\n",
       "max           1.000000\n",
       "Name: i_b, dtype: float64"
      ]
     },
     "execution_count": 16,
     "metadata": {},
     "output_type": "execute_result"
    }
   ],
   "source": [
    "df['i_b'].describe()"
   ]
  },
  {
   "cell_type": "code",
   "execution_count": 17,
   "metadata": {},
   "outputs": [
    {
     "data": {
      "image/png": "[encoded data removed]",
      "text/plain": [
       "<Figure size 432x288 with 1 Axes>"
      ]
     },
     "metadata": {
      "needs_background": "light"
     },
     "output_type": "display_data"
    }
   ],
   "source": [
    "df['i_b'].hist(bins=100)\n",
    "plt.show()"
   ]
  },
  {
   "cell_type": "markdown",
   "metadata": {},
   "source": [
    "### Input Ratio"
   ]
  },
  {
   "cell_type": "code",
   "execution_count": 18,
   "metadata": {},
   "outputs": [
    {
     "data": {
      "text/plain": [
       "count    146294.000000\n",
       "mean          0.020701\n",
       "std           0.039459\n",
       "min           0.000000\n",
       "25%           0.013700\n",
       "50%           0.018300\n",
       "75%           0.024100\n",
       "max          11.365500\n",
       "Name: i_ror, dtype: float64"
      ]
     },
     "execution_count": 18,
     "metadata": {},
     "output_type": "execute_result"
    }
   ],
   "source": [
    "df['i_ror'].describe()"
   ]
  },
  {
   "cell_type": "code",
   "execution_count": 19,
   "metadata": {},
   "outputs": [
    {
     "data": {
      "image/png": "[encoded data removed]",
      "text/plain": [
       "<Figure size 432x288 with 1 Axes>"
      ]
     },
     "metadata": {
      "needs_background": "light"
     },
     "output_type": "display_data"
    }
   ],
   "source": [
    "df['i_ror'].hist(bins=30)\n",
    "plt.show()"
   ]
  },
  {
   "cell_type": "markdown",
   "metadata": {},
   "source": [
    "### Semi-Major Axis Ratio"
   ]
  },
  {
   "cell_type": "code",
   "execution_count": 20,
   "metadata": {},
   "outputs": [
    {
     "data": {
      "text/plain": [
       "count    146294.000000\n",
       "mean        138.186792\n",
       "std          87.984078\n",
       "min           0.026000\n",
       "25%          63.765000\n",
       "50%         132.313000\n",
       "75%         207.584750\n",
       "max         487.582000\n",
       "Name: i_dor, dtype: float64"
      ]
     },
     "execution_count": 20,
     "metadata": {},
     "output_type": "execute_result"
    }
   ],
   "source": [
    "df['i_dor'].describe()"
   ]
  },
  {
   "cell_type": "code",
   "execution_count": 21,
   "metadata": {},
   "outputs": [
    {
     "data": {
      "image/png": "[encoded data removed]",
      "text/plain": [
       "<Figure size 432x288 with 1 Axes>"
      ]
     },
     "metadata": {
      "needs_background": "light"
     },
     "output_type": "display_data"
    }
   ],
   "source": [
    "df['i_dor'].hist(bins=60)\n",
    "plt.show()"
   ]
  },
  {
   "cell_type": "markdown",
   "metadata": {},
   "source": [
    "### Expected MES"
   ]
  },
  {
   "cell_type": "code",
   "execution_count": 22,
   "metadata": {},
   "outputs": [
    {
     "data": {
      "text/plain": [
       "count    146257.000000\n",
       "mean          8.365588\n",
       "std           6.381079\n",
       "min           0.000000\n",
       "25%           4.918000\n",
       "50%           7.314200\n",
       "75%          10.515100\n",
       "max         282.868800\n",
       "Name: Expected_MES, dtype: float64"
      ]
     },
     "execution_count": 22,
     "metadata": {},
     "output_type": "execute_result"
    }
   ],
   "source": [
    "df['Expected_MES'].describe()"
   ]
  },
  {
   "cell_type": "code",
   "execution_count": 23,
   "metadata": {},
   "outputs": [
    {
     "data": {
      "image/png": "[encoded data removed]",
      "text/plain": [
       "<Figure size 432x288 with 1 Axes>"
      ]
     },
     "metadata": {
      "needs_background": "light"
     },
     "output_type": "display_data"
    }
   ],
   "source": [
    "df['Expected_MES'].hist(bins=500)\n",
    "plt.show()"
   ]
  },
  {
   "cell_type": "markdown",
   "metadata": {},
   "source": [
    "### Recovered (Target)"
   ]
  },
  {
   "cell_type": "code",
   "execution_count": 24,
   "metadata": {},
   "outputs": [
    {
     "data": {
      "text/plain": [
       "count    146294.000000\n",
       "mean          0.314182\n",
       "std           0.472742\n",
       "min           0.000000\n",
       "25%           0.000000\n",
       "50%           0.000000\n",
       "75%           1.000000\n",
       "max           2.000000\n",
       "Name: Recovered, dtype: float64"
      ]
     },
     "execution_count": 24,
     "metadata": {},
     "output_type": "execute_result"
    }
   ],
   "source": [
    "df['Recovered'].describe()"
   ]
  },
  {
   "cell_type": "code",
   "execution_count": 25,
   "metadata": {},
   "outputs": [
    {
     "data": {
      "image/png": "[encoded data removed]",
      "text/plain": [
       "<Figure size 432x288 with 1 Axes>"
      ]
     },
     "metadata": {
      "needs_background": "light"
     },
     "output_type": "display_data"
    }
   ],
   "source": [
    "df['Recovered'].hist(bins=2)\n",
    "plt.show()"
   ]
  }
 ],
 "metadata": {
  "kernelspec": {
   "display_name": "Python 3",
   "language": "python",
   "name": "python3"
  },
  "language_info": {
   "codemirror_mode": {
    "name": "ipython",
    "version": 3
   },
   "file_extension": ".py",
   "mimetype": "text/x-python",
   "name": "python",
   "nbconvert_exporter": "python",
   "pygments_lexer": "ipython3",
   "version": "3.6.7"
  }
 },
 "nbformat": 4,
 "nbformat_minor": 2
}
