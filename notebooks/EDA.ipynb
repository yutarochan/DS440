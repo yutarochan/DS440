{
 "cells": [
  {
   "cell_type": "markdown",
   "metadata": {},
   "source": [
    "# Planet Prediction\n",
    "## Exploratory Data Analysis Notebook"
   ]
  },
  {
   "cell_type": "code",
   "execution_count": 1,
   "metadata": {},
   "outputs": [],
   "source": [
    "import itertools\n",
    "import numpy as np\n",
    "import pandas as pd\n",
    "import seaborn as sns\n",
    "from astropy.io import ascii\n",
    "import matplotlib.pyplot as plt\n",
    "from scipy.stats import gamma\n",
    "from scipy import linspace"
   ]
  },
  {
   "cell_type": "code",
   "execution_count": 2,
   "metadata": {},
   "outputs": [
    {
     "name": "stderr",
     "output_type": "stream",
     "text": [
      "/Users/yutarochan/Library/Python/3.6/lib/python/site-packages/IPython/core/interactiveshell.py:2963: TableReplaceWarning: converted column 'Fit_Provenance' from integer to float\n",
      "  exec(code_obj, self.user_global_ns, self.user_ns)\n"
     ]
    },
    {
     "data": {
      "text/html": [
       "<div>\n",
       "<style scoped>\n",
       "    .dataframe tbody tr th:only-of-type {\n",
       "        vertical-align: middle;\n",
       "    }\n",
       "\n",
       "    .dataframe tbody tr th {\n",
       "        vertical-align: top;\n",
       "    }\n",
       "\n",
       "    .dataframe thead th {\n",
       "        text-align: right;\n",
       "    }\n",
       "</style>\n",
       "<table border=\"1\" class=\"dataframe\">\n",
       "  <thead>\n",
       "    <tr style=\"text-align: right;\">\n",
       "      <th></th>\n",
       "      <th>KIC_ID</th>\n",
       "      <th>Sky_Group</th>\n",
       "      <th>i_period</th>\n",
       "      <th>i_epoch</th>\n",
       "      <th>N_Transit</th>\n",
       "      <th>i_depth</th>\n",
       "      <th>i_dur</th>\n",
       "      <th>i_b</th>\n",
       "      <th>i_ror</th>\n",
       "      <th>i_dor</th>\n",
       "      <th>...</th>\n",
       "      <th>TCE_ID</th>\n",
       "      <th>Measured_MES</th>\n",
       "      <th>r_period</th>\n",
       "      <th>r_epoch</th>\n",
       "      <th>r_depth</th>\n",
       "      <th>r_dur</th>\n",
       "      <th>r_b</th>\n",
       "      <th>r_ror</th>\n",
       "      <th>r_dor</th>\n",
       "      <th>Fit_Provenance</th>\n",
       "    </tr>\n",
       "  </thead>\n",
       "  <tbody>\n",
       "    <tr>\n",
       "      <th>0</th>\n",
       "      <td>11445144</td>\n",
       "      <td>8</td>\n",
       "      <td>70.0385</td>\n",
       "      <td>107.4886</td>\n",
       "      <td>0.9808</td>\n",
       "      <td>1662.0</td>\n",
       "      <td>4.02030</td>\n",
       "      <td>0.4141</td>\n",
       "      <td>0.0306</td>\n",
       "      <td>126.498</td>\n",
       "      <td>...</td>\n",
       "      <td>NaN</td>\n",
       "      <td>NaN</td>\n",
       "      <td>NaN</td>\n",
       "      <td>NaN</td>\n",
       "      <td>NaN</td>\n",
       "      <td>NaN</td>\n",
       "      <td>NaN</td>\n",
       "      <td>NaN</td>\n",
       "      <td>NaN</td>\n",
       "      <td>NaN</td>\n",
       "    </tr>\n",
       "    <tr>\n",
       "      <th>1</th>\n",
       "      <td>11496840</td>\n",
       "      <td>8</td>\n",
       "      <td>87.8829</td>\n",
       "      <td>103.9753</td>\n",
       "      <td>0.9808</td>\n",
       "      <td>1561.0</td>\n",
       "      <td>2.20705</td>\n",
       "      <td>0.7649</td>\n",
       "      <td>0.0350</td>\n",
       "      <td>214.397</td>\n",
       "      <td>...</td>\n",
       "      <td>NaN</td>\n",
       "      <td>NaN</td>\n",
       "      <td>NaN</td>\n",
       "      <td>NaN</td>\n",
       "      <td>NaN</td>\n",
       "      <td>NaN</td>\n",
       "      <td>NaN</td>\n",
       "      <td>NaN</td>\n",
       "      <td>NaN</td>\n",
       "      <td>NaN</td>\n",
       "    </tr>\n",
       "    <tr>\n",
       "      <th>2</th>\n",
       "      <td>11497236</td>\n",
       "      <td>8</td>\n",
       "      <td>88.3020</td>\n",
       "      <td>84.4552</td>\n",
       "      <td>0.9808</td>\n",
       "      <td>1332.0</td>\n",
       "      <td>2.11234</td>\n",
       "      <td>0.8100</td>\n",
       "      <td>0.0334</td>\n",
       "      <td>207.336</td>\n",
       "      <td>...</td>\n",
       "      <td>NaN</td>\n",
       "      <td>NaN</td>\n",
       "      <td>NaN</td>\n",
       "      <td>NaN</td>\n",
       "      <td>NaN</td>\n",
       "      <td>NaN</td>\n",
       "      <td>NaN</td>\n",
       "      <td>NaN</td>\n",
       "      <td>NaN</td>\n",
       "      <td>NaN</td>\n",
       "    </tr>\n",
       "    <tr>\n",
       "      <th>3</th>\n",
       "      <td>11548779</td>\n",
       "      <td>8</td>\n",
       "      <td>35.4942</td>\n",
       "      <td>73.9562</td>\n",
       "      <td>2.9425</td>\n",
       "      <td>686.0</td>\n",
       "      <td>1.00655</td>\n",
       "      <td>0.8915</td>\n",
       "      <td>0.0247</td>\n",
       "      <td>138.661</td>\n",
       "      <td>...</td>\n",
       "      <td>NaN</td>\n",
       "      <td>NaN</td>\n",
       "      <td>NaN</td>\n",
       "      <td>NaN</td>\n",
       "      <td>NaN</td>\n",
       "      <td>NaN</td>\n",
       "      <td>NaN</td>\n",
       "      <td>NaN</td>\n",
       "      <td>NaN</td>\n",
       "      <td>NaN</td>\n",
       "    </tr>\n",
       "    <tr>\n",
       "      <th>4</th>\n",
       "      <td>11600744</td>\n",
       "      <td>8</td>\n",
       "      <td>48.8212</td>\n",
       "      <td>97.2396</td>\n",
       "      <td>23.2943</td>\n",
       "      <td>372.0</td>\n",
       "      <td>1.77915</td>\n",
       "      <td>0.8738</td>\n",
       "      <td>0.0183</td>\n",
       "      <td>110.768</td>\n",
       "      <td>...</td>\n",
       "      <td>NaN</td>\n",
       "      <td>NaN</td>\n",
       "      <td>NaN</td>\n",
       "      <td>NaN</td>\n",
       "      <td>NaN</td>\n",
       "      <td>NaN</td>\n",
       "      <td>NaN</td>\n",
       "      <td>NaN</td>\n",
       "      <td>NaN</td>\n",
       "      <td>NaN</td>\n",
       "    </tr>\n",
       "  </tbody>\n",
       "</table>\n",
       "<p>5 rows × 25 columns</p>\n",
       "</div>"
      ],
      "text/plain": [
       "     KIC_ID  Sky_Group  i_period   i_epoch  N_Transit  i_depth    i_dur  \\\n",
       "0  11445144          8   70.0385  107.4886     0.9808   1662.0  4.02030   \n",
       "1  11496840          8   87.8829  103.9753     0.9808   1561.0  2.20705   \n",
       "2  11497236          8   88.3020   84.4552     0.9808   1332.0  2.11234   \n",
       "3  11548779          8   35.4942   73.9562     2.9425    686.0  1.00655   \n",
       "4  11600744          8   48.8212   97.2396    23.2943    372.0  1.77915   \n",
       "\n",
       "      i_b   i_ror    i_dor       ...        TCE_ID  Measured_MES  r_period  \\\n",
       "0  0.4141  0.0306  126.498       ...           NaN           NaN       NaN   \n",
       "1  0.7649  0.0350  214.397       ...           NaN           NaN       NaN   \n",
       "2  0.8100  0.0334  207.336       ...           NaN           NaN       NaN   \n",
       "3  0.8915  0.0247  138.661       ...           NaN           NaN       NaN   \n",
       "4  0.8738  0.0183  110.768       ...           NaN           NaN       NaN   \n",
       "\n",
       "   r_epoch  r_depth r_dur  r_b  r_ror  r_dor  Fit_Provenance  \n",
       "0      NaN      NaN   NaN  NaN    NaN    NaN             NaN  \n",
       "1      NaN      NaN   NaN  NaN    NaN    NaN             NaN  \n",
       "2      NaN      NaN   NaN  NaN    NaN    NaN             NaN  \n",
       "3      NaN      NaN   NaN  NaN    NaN    NaN             NaN  \n",
       "4      NaN      NaN   NaN  NaN    NaN    NaN             NaN  \n",
       "\n",
       "[5 rows x 25 columns]"
      ]
     },
     "execution_count": 2,
     "metadata": {},
     "output_type": "execute_result"
    }
   ],
   "source": [
    "# Load Dataset\n",
    "raw_data = ascii.read('../data/raw/plti/kplr_dr25_inj1_plti.txt')\n",
    "df = raw_data.to_pandas()\n",
    "\n",
    "df.head()"
   ]
  },
  {
   "cell_type": "markdown",
   "metadata": {},
   "source": [
    "### NaN Count"
   ]
  },
  {
   "cell_type": "code",
   "execution_count": 3,
   "metadata": {},
   "outputs": [
    {
     "data": {
      "text/plain": [
       "KIC_ID                     0\n",
       "Sky_Group                  0\n",
       "i_period                   0\n",
       "i_epoch                    0\n",
       "N_Transit                  0\n",
       "i_depth                    0\n",
       "i_dur                      0\n",
       "i_b                        0\n",
       "i_ror                      0\n",
       "i_dor                      0\n",
       "EB_injection               0\n",
       "Offset_from_source         0\n",
       "Offset_distance            0\n",
       "Expected_MES              37\n",
       "Recovered                  0\n",
       "TCE_ID                100917\n",
       "Measured_MES          100917\n",
       "r_period              100917\n",
       "r_epoch               100917\n",
       "r_depth               100917\n",
       "r_dur                 100917\n",
       "r_b                   100917\n",
       "r_ror                 100917\n",
       "r_dor                 100917\n",
       "Fit_Provenance        100917\n",
       "dtype: int64"
      ]
     },
     "execution_count": 3,
     "metadata": {},
     "output_type": "execute_result"
    }
   ],
   "source": [
    "df.isna().sum()"
   ]
  },
  {
   "cell_type": "markdown",
   "metadata": {},
   "source": [
    "## Independent Variable Analysis\n",
    "We preform a simple analysis of each feature in the dataset. Specifically we look at all distributions and simple statistics of the dataset"
   ]
  },
  {
   "cell_type": "markdown",
   "metadata": {},
   "source": [
    "### Sky Group\n",
    "Sky group of the target star (identifies the target location by CCD\n",
    "channel for season 2 as described in Appendix D, Thompson et al. 2016b)"
   ]
  },
  {
   "cell_type": "code",
   "execution_count": 4,
   "metadata": {},
   "outputs": [
    {
     "data": {
      "text/plain": [
       "count    146294.000000\n",
       "mean         45.655775\n",
       "std          23.880388\n",
       "min           1.000000\n",
       "25%          27.000000\n",
       "50%          45.000000\n",
       "75%          66.000000\n",
       "max          84.000000\n",
       "Name: Sky_Group, dtype: float64"
      ]
     },
     "execution_count": 4,
     "metadata": {},
     "output_type": "execute_result"
    }
   ],
   "source": [
    "df['Sky_Group'].describe()"
   ]
  },
  {
   "cell_type": "code",
   "execution_count": 5,
   "metadata": {},
   "outputs": [
    {
     "data": {
      "image/png": "[encoded data removed]",
      "text/plain": [
       "<Figure size 432x288 with 1 Axes>"
      ]
     },
     "metadata": {},
     "output_type": "display_data"
    }
   ],
   "source": [
    "# Plot Distribution of Sky Group\n",
    "df['Sky_Group'].hist(bins=84)\n",
    "plt.show()"
   ]
  },
  {
   "cell_type": "markdown",
   "metadata": {},
   "source": [
    "#### Sky Group Binning\n",
    "Based on the distribution plotted above, we see that the Sky_Group has too many features and thus also leads to an irrelevant feature based on many of the feature analysis. Thus, we employ a binning method to reduce the size of the feature ranges.\n",
    "\n",
    "For this, we use a data-driven method, the Shimazaki-Shinomoto Method to help find the optimal bin sizes for our data.\n",
    "\n",
    "```\n",
    "@inproceedings{shimazaki2007recipe,\n",
    "  title={A recipe for optimizing a time-histogram},\n",
    "  author={Shimazaki, Hideaki and Shinomoto, Shigeru},\n",
    "  booktitle={Advances in neural information processing systems},\n",
    "  pages={1289--1296},\n",
    "  year={2007}\n",
    "}\n",
    "```\n",
    "\n",
    "We use an implementation borrowed from: https://github.com/oldmonkABA/optimal_histogram_bin_width"
   ]
  },
  {
   "cell_type": "code",
   "execution_count": 87,
   "metadata": {},
   "outputs": [],
   "source": [
    "def shimashino_bin(X, n_min, n_max, n_ideal):\n",
    "    data_max = np.max(X)\n",
    "    data_min = np.min(X)\n",
    "    N = np.array(range(n_min, n_max))\n",
    "    D = float(data_max - data_min) / N  # Bin Width Vector\n",
    "    Cs = np.zeros((len(D), n_ideal))\n",
    "    \n",
    "    # Compute Cost Function\n",
    "    for i in range(np.size(N)):\n",
    "        shift = linspace(0, D[i], n_ideal)\n",
    "        \n",
    "        for j in range(n_ideal):\n",
    "            edges = linspace(data_min + shift[j] - D[i] / 2, data_max + shift[j] - D[i] / 2, N[i] + 1) # Shift Bin Edges\n",
    "            binindex = np.digitize(X, edges) # Find binindex of each data point\n",
    "            ki = np.bincount(binindex)[1:N[i] + 1] # Find number of points in each bin\n",
    "            k = np.mean(ki) # Mean of event count\n",
    "            v = sum((ki-k)**2)/N[i] # Variance of event count\n",
    "            Cs[i,j]+= (2*k-v)/((D[i])**2) # The cost Function\n",
    "    C = Cs.mean(1)\n",
    "    \n",
    "    loc = np.argwhere(Cs==Cs.min())[0]\n",
    "    cmin = C.min()\n",
    "    idx  = np.where(C==cmin)\n",
    "    idx = idx[0][0]\n",
    "    optD = D[idx]\n",
    "    \n",
    "    print('Optimal Bin Number :' + str(N[idx]))\n",
    "    print('Optimal Bin Width :' + str(optD))"
   ]
  },
  {
   "cell_type": "code",
   "execution_count": 93,
   "metadata": {},
   "outputs": [
    {
     "name": "stdout",
     "output_type": "stream",
     "text": [
      "Optimal Bin Number :499\n",
      "Optimal Bin Width :0.166332665331\n"
     ]
    }
   ],
   "source": [
    "shimashino_bin(df['Sky_Group'].values, 5, 500, 30)"
   ]
  },
  {
   "cell_type": "markdown",
   "metadata": {},
   "source": [
    "Based on the analysis above, data driven feature binning does not seem to be an appropriate tool for this, hence, we look to another method of feature engineering using known heuristics of the CCD channel inputs. We demonstrate some of the heuristics that we presented below."
   ]
  },
  {
   "cell_type": "markdown",
   "metadata": {},
   "source": [
    "### CCD Channel Pooling Heuristic\n",
    "We define a new feature grouping heuristic, which utilizes some of the physical intrastructure of the Kepler telescope CCD channels. This is inspired from the heuristics used in Convolutional Neural Networks, where we pool the data based on the spatial orientation of the sensors."
   ]
  },
  {
   "cell_type": "markdown",
   "metadata": {},
   "source": [
    "#### Pool by Center\n",
    "The first method we propose, is through pooling of the data by the corresponding panel of the CCD channel, as demonstrated below.\n",
    "\n",
    "![panel](http://archive.stsci.edu/kepler/manuals/archive_manual_files/image048.gif)"
   ]
  },
  {
   "cell_type": "code",
   "execution_count": 33,
   "metadata": {},
   "outputs": [
    {
     "name": "stdout",
     "output_type": "stream",
     "text": [
      "{1: 2, 2: 2, 3: 2, 4: 2, 5: 3, 6: 3, 7: 3, 8: 3, 9: 4, 10: 4, 11: 4, 12: 4, 13: 6, 14: 6, 15: 6, 16: 6, 17: 7, 18: 7, 19: 7, 20: 7, 21: 8, 22: 8, 23: 8, 24: 8, 25: 9, 26: 9, 27: 9, 28: 9, 29: 10, 30: 10, 31: 10, 32: 10, 33: 11, 34: 11, 35: 11, 36: 11, 37: 12, 38: 12, 39: 12, 40: 12, 41: 13, 42: 13, 43: 13, 44: 13, 45: 14, 46: 14, 47: 14, 48: 14, 49: 15, 50: 15, 51: 15, 52: 15, 53: 16, 54: 16, 55: 16, 56: 16, 57: 17, 58: 17, 59: 17, 60: 17, 61: 18, 62: 18, 63: 18, 64: 18, 65: 19, 66: 19, 67: 19, 68: 19, 69: 20, 70: 20, 71: 20, 72: 20, 73: 22, 74: 22, 75: 22, 76: 22, 77: 23, 78: 23, 79: 23, 80: 23, 81: 24, 82: 24, 83: 24, 84: 24}\n"
     ]
    }
   ],
   "source": [
    "# Center Pool Mapping\n",
    "# Note: Representation of the mapping is not exactly the same as above...\n",
    "panel = 2\n",
    "center_map = {}\n",
    "for i in range(1, 85):\n",
    "    center_map[i] = panel\n",
    "    if i % 4 == 0: \n",
    "        if panel == 4 or panel == 20:\n",
    "            panel += 2\n",
    "        else:\n",
    "            panel += 1\n",
    "\n",
    "print(center_map)"
   ]
  },
  {
   "cell_type": "markdown",
   "metadata": {},
   "source": [
    "#### Pool  by Corner\n",
    "The second feature we can consider is pooling by the touching corners of the square. Here we can identify four types of filters we can pool by:\n",
    "\n",
    "```\n",
    " _ _\n",
    "|_|_|\n",
    "|_|_|\n",
    "Type 1: Four corner\n",
    "   _\n",
    " _|_|\n",
    "|_|_|\n",
    "Type 2: Three corner\n",
    " _\n",
    "|_|\n",
    "|_|\n",
    "Type 3: Double corner\n",
    " _\n",
    "|_|\n",
    "Type 1: Single corner\n",
    "```\n",
    "\n",
    "Similar to how we have filters in a convolution operation, these act somewhat like pseudo-filters by which we pool the corners together. Below we devise a mapping correponding to the corners."
   ]
  },
  {
   "cell_type": "code",
   "execution_count": 22,
   "metadata": {},
   "outputs": [
    {
     "name": "stdout",
     "output_type": "stream",
     "text": [
      "{4: 0, 11: 1, 15: 2, 32: 3, 56: 4, 71: 5, 75: 6, 84: 7, 3: 8, 8: 8, 7: 9, 12: 9, 16: 10, 35: 10, 31: 11, 52: 11, 36: 12, 55: 12, 51: 13, 72: 13, 76: 14, 79: 14, 80: 15, 83: 15, 1: 16, 14: 16, 20: 16, 10: 17, 28: 17, 29: 17, 53: 18, 60: 18, 74: 18, 68: 19, 70: 19, 81: 19, 2: 20, 5: 20, 19: 20, 24: 20, 6: 21, 9: 21, 23: 21, 25: 21, 13: 22, 17: 22, 34: 22, 39: 22, 18: 23, 21: 23, 38: 23, 43: 23, 22: 24, 26: 24, 42: 24, 45: 24, 27: 25, 30: 25, 48: 25, 49: 25, 33: 26, 40: 26, 54: 26, 59: 26, 37: 27, 44: 27, 58: 27, 62: 27, 41: 28, 46: 28, 61: 28, 66: 28, 47: 29, 50: 29, 65: 29, 69: 29, 57: 30, 63: 30, 73: 30, 78: 30, 64: 31, 67: 31, 77: 31, 82: 31}\n"
     ]
    }
   ],
   "source": [
    "# Manually Define Index Pairs for All Combinations\n",
    "single = [4, 11, 15, 32, 56, 71, 75, 84]\n",
    "double = [(3,8), (7,12), (16,35), (31,52), (36,55), (51,72), (76,79), (80,83)]\n",
    "triple = [(1,14,20), (10,28,29), (53,60,74), (68,70,81)]\n",
    "quad = [(2,5,19,24), (6,9,23,25), (13,17,34,39), (18,21,38,43), (22,26,42,45), (27,30,48,49), (33,40,54,59), \n",
    "        (37,44,58,62), (41,46,61,66), (47,50,65,69), (57,63,73,78), (64,67,77,82)]\n",
    "\n",
    "# Joint Type Mapping\n",
    "join_type = {}\n",
    "for i in single: join_type[i] = 1\n",
    "for i in list(itertools.chain(*double)): join_type[i] = 2\n",
    "for i in list(itertools.chain(*triple)): join_type[i] = 3\n",
    "for i in list(itertools.chain(*quad)): join_type[i] = 4\n",
    "    \n",
    "# print(join_type)\n",
    "\n",
    "# Corner Group Mapping\n",
    "corner_map = {}\n",
    "for i, x in enumerate(single + double + triple + quad):\n",
    "    if isinstance(x, int): \n",
    "        corner_map[x] = i\n",
    "    else:\n",
    "        for j in x: corner_map[j] = i\n",
    "\n",
    "print(corner_map)"
   ]
  },
  {
   "cell_type": "markdown",
   "metadata": {},
   "source": [
    "#### Channel Orientation\n",
    "Another feature that we can consider is the feature orientaiton of the CCD channels for each of the panel. We believe that based on the orientation of the sensors, there may be some possible properties that may be extacted from the data. We correspondingly create a mapping for the orientation."
   ]
  },
  {
   "cell_type": "code",
   "execution_count": 25,
   "metadata": {},
   "outputs": [
    {
     "name": "stdout",
     "output_type": "stream",
     "text": [
      "{2: 1, 3: 1, 4: 1, 7: 1, 8: 1, 6: 2, 11: 2, 12: 2, 13: 2, 16: 2, 17: 2, 9: 3, 10: 3, 14: 3, 15: 3, 20: 3, 23: 3, 18: 4, 19: 4, 22: 4, 24: 4}\n"
     ]
    }
   ],
   "source": [
    "t_1 = [2, 3, 4, 7, 8]\n",
    "t_2 = [6, 11, 12, 13, 16, 17]\n",
    "t_3 = [9, 10, 14, 15, 20, 23]\n",
    "t_4 = [18, 19, 22, 24]\n",
    "\n",
    "ch_ori = {}\n",
    "for t in t_1: ch_ori[t] = 1\n",
    "for t in t_2: ch_ori[t] = 2\n",
    "for t in t_3: ch_ori[t] = 3\n",
    "for t in t_4: ch_ori[t] = 4\n",
    "    \n",
    "print(ch_ori)"
   ]
  },
  {
   "cell_type": "markdown",
   "metadata": {},
   "source": [
    "### Sky Group Visualization\n",
    "To better visualize and characterize each of the feature's properties per CCD channel, we generate a plot similar to the one above."
   ]
  },
  {
   "cell_type": "code",
   "execution_count": 83,
   "metadata": {},
   "outputs": [
    {
     "name": "stdout",
     "output_type": "stream",
     "text": [
      "{1: (2, 1), 2: (3, 1), 3: (3, 0), 4: (2, 0), 5: (4, 1), 6: (5, 1), 7: (5, 0), 8: (4, 0), 9: (6, 1), 10: (7, 1), 11: (7, 0), 12: (6, 0), 13: (1, 3), 14: (1, 2), 15: (0, 2), 16: (0, 3), 17: (2, 3), 18: (3, 3), 19: (3, 2), 20: (2, 2), 21: (4, 3), 22: (5, 3), 23: (5, 2), 24: (4, 2), 25: (6, 2), 26: (6, 3), 27: (7, 3), 28: (7, 2), 29: (8, 2), 30: (8, 3), 31: (9, 3), 32: (9, 2), 33: (1, 5), 34: (1, 4), 35: (0, 4), 36: (0, 5), 37: (3, 5), 38: (3, 4), 39: (2, 4), 40: (2, 5), 41: (5, 5), 42: (5, 4), 43: (4, 4), 44: (4, 5), 45: (6, 4), 46: (6, 5), 47: (7, 5), 48: (7, 4), 49: (8, 4), 50: (8, 5), 51: (9, 5), 52: (9, 4), 53: (1, 7), 54: (1, 6), 55: (0, 6), 56: (0, 7), 57: (3, 7), 58: (3, 6), 59: (2, 6), 60: (2, 7), 61: (5, 6), 62: (4, 6), 63: (4, 7), 64: (5, 7), 65: (7, 6), 66: (6, 6), 67: (6, 7), 68: (7, 7), 69: (8, 6), 70: (8, 7), 71: (9, 7), 72: (9, 6), 73: (3, 8), 74: (2, 8), 75: (2, 9), 76: (3, 9), 77: (5, 8), 78: (5, 9), 79: (6, 9), 80: (6, 8), 81: (7, 8), 82: (6, 8), 83: (6, 9), 84: (7, 9)}\n"
     ]
    }
   ],
   "source": [
    "# Orientation Tuple\n",
    "def ori_tup(x, y, ori):\n",
    "    if ori == 1: return [(x, y), (x+1, y), (x+1, y-1), (x, y-1)]\n",
    "    elif ori == 2: return [(x, y), (x, y-1), (x-1, y-1), (x-1, y)]\n",
    "    elif ori == 3: return [(x, y), (x, y+1), (x+1, y+1), (x+1, y)]\n",
    "    elif ori == 4: return [(x, y), (x-1, y), (x-1, y+1), (x, y+1)]\n",
    "\n",
    "# Generate Coordinate Map\n",
    "st_cord = {1:(2,1), 5:(4,1), 9:(6,1), 13:(1,3), 17:(2,3), 21:(4,3),\n",
    "          25:(6,2), 29:(8,2), 33:(1,5), 37:(3,5), 41:(5,5), 45:(6,4),\n",
    "          49:(8,4), 53:(1,7), 57:(3,7), 61:(5,6), 65:(7,6), 69:(8,6),\n",
    "          73:(3,8), 77:(5,8), 81:(7,8)}\n",
    "\n",
    "cord_map = {}\n",
    "for id in st_cord:\n",
    "    panel = center_map[id]\n",
    "    c = st_cord[id]\n",
    "    for idx, x in enumerate(ori_tup(c[0], c[1], ch_ori[panel])):\n",
    "        cord_map[id+idx] = x\n",
    "print(cord_map)"
   ]
  },
  {
   "cell_type": "code",
   "execution_count": 85,
   "metadata": {},
   "outputs": [
    {
     "data": {
      "image/png": "[encoded data removed]",
      "text/plain": [
       "<Figure size 432x288 with 100 Axes>"
      ]
     },
     "metadata": {},
     "output_type": "display_data"
    }
   ],
   "source": [
    "# Initialize Plot: Use the following structure to generate the CCD Plot\n",
    "fig, axes = plt.subplots(10, 10)\n",
    "\n",
    "# Remove Corner Plots\n",
    "miss = [(0,0), (0,1), (1,0), (1,1), (0,8), (0,9), (1,8), (1,9), (8,0), (9,0), (8,1), (9,1), (8,8), (8,9), (9,8), (9,9)]\n",
    "for m in miss: axes[m[0], m[1]].set_visible(False)"
   ]
  },
  {
   "cell_type": "markdown",
   "metadata": {},
   "source": [
    "### Input Period\n",
    "The orbital period (days) of the injected signal"
   ]
  },
  {
   "cell_type": "code",
   "execution_count": 6,
   "metadata": {},
   "outputs": [
    {
     "data": {
      "text/plain": [
       "count    146294.000000\n",
       "mean        240.811542\n",
       "std         145.475269\n",
       "min           0.502700\n",
       "25%         111.653375\n",
       "50%         237.599700\n",
       "75%         365.994700\n",
       "max         499.997600\n",
       "Name: i_period, dtype: float64"
      ]
     },
     "execution_count": 6,
     "metadata": {},
     "output_type": "execute_result"
    }
   ],
   "source": [
    "df['i_period'].describe()"
   ]
  },
  {
   "cell_type": "code",
   "execution_count": 7,
   "metadata": {},
   "outputs": [
    {
     "data": {
      "image/png": "[encoded data removed]",
      "text/plain": [
       "<matplotlib.figure.Figure at 0x7fc44c1c9ac8>"
      ]
     },
     "metadata": {
      "needs_background": "light"
     },
     "output_type": "display_data"
    }
   ],
   "source": [
    "df['i_period'].hist(bins=20)\n",
    "plt.show()"
   ]
  },
  {
   "cell_type": "code",
   "execution_count": 97,
   "metadata": {},
   "outputs": [
    {
     "name": "stdout",
     "output_type": "stream",
     "text": [
      "Optimal Bin Number :2\n",
      "Optimal Bin Width :249.74745\n"
     ]
    }
   ],
   "source": [
    "# Shima-Shiro Binning\n",
    "shimashino_bin(df['i_period'].values, 1, 50, 30)"
   ]
  },
  {
   "cell_type": "markdown",
   "metadata": {},
   "source": [
    "### Input Epoch"
   ]
  },
  {
   "cell_type": "code",
   "execution_count": 8,
   "metadata": {},
   "outputs": [
    {
     "data": {
      "text/plain": [
       "count    146294.000000\n",
       "mean        185.547511\n",
       "std         108.868803\n",
       "min          64.998300\n",
       "25%          95.959525\n",
       "50%         153.055200\n",
       "75%         249.615575\n",
       "max         564.521100\n",
       "Name: i_epoch, dtype: float64"
      ]
     },
     "execution_count": 8,
     "metadata": {},
     "output_type": "execute_result"
    }
   ],
   "source": [
    "df['i_epoch'].describe()"
   ]
  },
  {
   "cell_type": "code",
   "execution_count": 9,
   "metadata": {},
   "outputs": [
    {
     "data": {
      "image/png": "[encoded data removed]",
      "text/plain": [
       "<matplotlib.figure.Figure at 0x7fc44c2007f0>"
      ]
     },
     "metadata": {
      "needs_background": "light"
     },
     "output_type": "display_data"
    }
   ],
   "source": [
    "df['i_epoch'].hist(bins=20)\n",
    "plt.show()"
   ]
  },
  {
   "cell_type": "markdown",
   "metadata": {},
   "source": [
    "### Number of Transit"
   ]
  },
  {
   "cell_type": "code",
   "execution_count": 10,
   "metadata": {},
   "outputs": [
    {
     "data": {
      "text/plain": [
       "count    146294.000000\n",
       "mean         17.726244\n",
       "std          80.199694\n",
       "min           0.000000\n",
       "25%           3.040500\n",
       "50%           5.002200\n",
       "75%          10.080700\n",
       "max        2760.333100\n",
       "Name: N_Transit, dtype: float64"
      ]
     },
     "execution_count": 10,
     "metadata": {},
     "output_type": "execute_result"
    }
   ],
   "source": [
    "df['N_Transit'].describe()"
   ]
  },
  {
   "cell_type": "code",
   "execution_count": 11,
   "metadata": {},
   "outputs": [
    {
     "data": {
      "image/png": "[encoded data removed]",
      "text/plain": [
       "<matplotlib.figure.Figure at 0x7fc44c2a4e10>"
      ]
     },
     "metadata": {
      "needs_background": "light"
     },
     "output_type": "display_data"
    }
   ],
   "source": [
    "df['N_Transit'].hist(bins=50)\n",
    "plt.show()"
   ]
  },
  {
   "cell_type": "markdown",
   "metadata": {},
   "source": [
    "### Input Depth"
   ]
  },
  {
   "cell_type": "code",
   "execution_count": 12,
   "metadata": {},
   "outputs": [
    {
     "data": {
      "text/plain": [
       "count    146294.000000\n",
       "mean        721.151558\n",
       "std        4200.519996\n",
       "min           0.000000\n",
       "25%         234.000000\n",
       "50%         432.000000\n",
       "75%         770.000000\n",
       "max      923056.000000\n",
       "Name: i_depth, dtype: float64"
      ]
     },
     "execution_count": 12,
     "metadata": {},
     "output_type": "execute_result"
    }
   ],
   "source": [
    "df['i_depth'].describe()"
   ]
  },
  {
   "cell_type": "code",
   "execution_count": 13,
   "metadata": {},
   "outputs": [
    {
     "data": {
      "image/png": "[encoded data removed]",
      "text/plain": [
       "<matplotlib.figure.Figure at 0x7fc44c216b00>"
      ]
     },
     "metadata": {
      "needs_background": "light"
     },
     "output_type": "display_data"
    }
   ],
   "source": [
    "df['i_depth'].hist(bins=20)\n",
    "plt.show()"
   ]
  },
  {
   "cell_type": "markdown",
   "metadata": {},
   "source": [
    "### Input Duration"
   ]
  },
  {
   "cell_type": "code",
   "execution_count": 14,
   "metadata": {},
   "outputs": [
    {
     "data": {
      "text/plain": [
       "count    146294.000000\n",
       "mean         27.579884\n",
       "std         109.667362\n",
       "min           0.217420\n",
       "25%           6.389128\n",
       "50%           9.548950\n",
       "75%          13.629950\n",
       "max        3142.898300\n",
       "Name: i_dur, dtype: float64"
      ]
     },
     "execution_count": 14,
     "metadata": {},
     "output_type": "execute_result"
    }
   ],
   "source": [
    "df['i_dur'].describe()"
   ]
  },
  {
   "cell_type": "code",
   "execution_count": 15,
   "metadata": {},
   "outputs": [
    {
     "data": {
      "image/png": "[encoded data removed]",
      "text/plain": [
       "<matplotlib.figure.Figure at 0x7fc44c29a208>"
      ]
     },
     "metadata": {
      "needs_background": "light"
     },
     "output_type": "display_data"
    }
   ],
   "source": [
    "df['i_dur'].hist(bins=30)\n",
    "plt.show()"
   ]
  },
  {
   "cell_type": "markdown",
   "metadata": {},
   "source": [
    "### Impact of Parameter"
   ]
  },
  {
   "cell_type": "code",
   "execution_count": 16,
   "metadata": {},
   "outputs": [
    {
     "data": {
      "text/plain": [
       "count    146294.000000\n",
       "mean          0.499279\n",
       "std           0.288493\n",
       "min           0.000000\n",
       "25%           0.249600\n",
       "50%           0.500400\n",
       "75%           0.748500\n",
       "max           1.000000\n",
       "Name: i_b, dtype: float64"
      ]
     },
     "execution_count": 16,
     "metadata": {},
     "output_type": "execute_result"
    }
   ],
   "source": [
    "df['i_b'].describe()"
   ]
  },
  {
   "cell_type": "code",
   "execution_count": 17,
   "metadata": {},
   "outputs": [
    {
     "data": {
      "image/png": "[encoded data removed]",
      "text/plain": [
       "<matplotlib.figure.Figure at 0x7fc45b107b38>"
      ]
     },
     "metadata": {
      "needs_background": "light"
     },
     "output_type": "display_data"
    }
   ],
   "source": [
    "df['i_b'].hist(bins=100)\n",
    "plt.show()"
   ]
  },
  {
   "cell_type": "markdown",
   "metadata": {},
   "source": [
    "### Input Ratio"
   ]
  },
  {
   "cell_type": "code",
   "execution_count": 18,
   "metadata": {},
   "outputs": [
    {
     "data": {
      "text/plain": [
       "count    146294.000000\n",
       "mean          0.020701\n",
       "std           0.039459\n",
       "min           0.000000\n",
       "25%           0.013700\n",
       "50%           0.018300\n",
       "75%           0.024100\n",
       "max          11.365500\n",
       "Name: i_ror, dtype: float64"
      ]
     },
     "execution_count": 18,
     "metadata": {},
     "output_type": "execute_result"
    }
   ],
   "source": [
    "df['i_ror'].describe()"
   ]
  },
  {
   "cell_type": "code",
   "execution_count": 19,
   "metadata": {},
   "outputs": [
    {
     "data": {
      "image/png": "[encoded data removed]",
      "text/plain": [
       "<matplotlib.figure.Figure at 0x7fc45b0fe7f0>"
      ]
     },
     "metadata": {
      "needs_background": "light"
     },
     "output_type": "display_data"
    }
   ],
   "source": [
    "df['i_ror'].hist(bins=30)\n",
    "plt.show()"
   ]
  },
  {
   "cell_type": "markdown",
   "metadata": {},
   "source": [
    "### Semi-Major Axis Ratio"
   ]
  },
  {
   "cell_type": "code",
   "execution_count": 20,
   "metadata": {},
   "outputs": [
    {
     "data": {
      "text/plain": [
       "count    146294.000000\n",
       "mean        138.186792\n",
       "std          87.984078\n",
       "min           0.026000\n",
       "25%          63.765000\n",
       "50%         132.313000\n",
       "75%         207.584750\n",
       "max         487.582000\n",
       "Name: i_dor, dtype: float64"
      ]
     },
     "execution_count": 20,
     "metadata": {},
     "output_type": "execute_result"
    }
   ],
   "source": [
    "df['i_dor'].describe()"
   ]
  },
  {
   "cell_type": "code",
   "execution_count": 21,
   "metadata": {},
   "outputs": [
    {
     "data": {
      "image/png": "[encoded data removed]",
      "text/plain": [
       "<matplotlib.figure.Figure at 0x7fc45eb8e710>"
      ]
     },
     "metadata": {
      "needs_background": "light"
     },
     "output_type": "display_data"
    }
   ],
   "source": [
    "df['i_dor'].hist(bins=60)\n",
    "plt.show()"
   ]
  },
  {
   "cell_type": "markdown",
   "metadata": {},
   "source": [
    "### Expected MES"
   ]
  },
  {
   "cell_type": "code",
   "execution_count": 22,
   "metadata": {},
   "outputs": [
    {
     "data": {
      "text/plain": [
       "count    146257.000000\n",
       "mean          8.365588\n",
       "std           6.381079\n",
       "min           0.000000\n",
       "25%           4.918000\n",
       "50%           7.314200\n",
       "75%          10.515100\n",
       "max         282.868800\n",
       "Name: Expected_MES, dtype: float64"
      ]
     },
     "execution_count": 22,
     "metadata": {},
     "output_type": "execute_result"
    }
   ],
   "source": [
    "df['Expected_MES'].describe()"
   ]
  },
  {
   "cell_type": "code",
   "execution_count": 23,
   "metadata": {},
   "outputs": [
    {
     "data": {
      "image/png": "[encoded data removed]",
      "text/plain": [
       "<matplotlib.figure.Figure at 0x7fc45ea22240>"
      ]
     },
     "metadata": {
      "needs_background": "light"
     },
     "output_type": "display_data"
    }
   ],
   "source": [
    "df['Expected_MES'].hist(bins=500)\n",
    "plt.show()"
   ]
  },
  {
   "cell_type": "markdown",
   "metadata": {},
   "source": [
    "### Learn Gamma Distribution Parameters\n",
    "In this section, we aim to learn the parameters of the Gamma CDF function. Although the model has provided the parameters for the data, we also attempt to reproduce the given parameters."
   ]
  },
  {
   "cell_type": "code",
   "execution_count": 24,
   "metadata": {},
   "outputs": [
    {
     "name": "stdout",
     "output_type": "stream",
     "text": [
      "0.0498630668989 -1.87930660979e-26 3.08179479068\n"
     ]
    }
   ],
   "source": [
    "# Gamma Distribution Function Fitter\n",
    "exp_mes = df['Expected_MES'].values[~np.isnan(df['Expected_MES'].values)]\n",
    "shape, loc, scale = gamma.fit(exp_mes)\n",
    "\n",
    "print(shape, loc, scale)"
   ]
  },
  {
   "cell_type": "code",
   "execution_count": 67,
   "metadata": {},
   "outputs": [
    {
     "data": {
      "image/png": "[encoded data removed]",
      "text/plain": [
       "<matplotlib.figure.Figure at 0x7fc45a547940>"
      ]
     },
     "metadata": {
      "needs_background": "light"
     },
     "output_type": "display_data"
    }
   ],
   "source": [
    "# Learned Parameters\n",
    "test_mes = np.arange(0.0, 1, 0.000001)\n",
    "gamma_model = gamma.cdf(test_mes, a=shape, loc=loc, scale=scale)\n",
    "\n",
    "plt.scatter(test_mes, gamma_model, s=0.2)\n",
    "plt.show()"
   ]
  },
  {
   "cell_type": "code",
   "execution_count": 51,
   "metadata": {},
   "outputs": [
    {
     "data": {
      "image/png": "[encoded data removed]",
      "text/plain": [
       "<matplotlib.figure.Figure at 0x7fc45eaca320>"
      ]
     },
     "metadata": {
      "needs_background": "light"
     },
     "output_type": "display_data"
    }
   ],
   "source": [
    "# Default Parameters\n",
    "test_mes = np.arange(0.0, 1, 0.000001)\n",
    "gamma_model = 0.271 * gamma.cdf(test_mes, a=0.94)\n",
    "\n",
    "plt.scatter(test_mes, gamma_model, s=0.2)\n",
    "plt.show()"
   ]
  },
  {
   "cell_type": "markdown",
   "metadata": {},
   "source": [
    "### Recovered (Target)"
   ]
  },
  {
   "cell_type": "code",
   "execution_count": 26,
   "metadata": {},
   "outputs": [
    {
     "data": {
      "text/plain": [
       "count    146294.000000\n",
       "mean          0.314182\n",
       "std           0.472742\n",
       "min           0.000000\n",
       "25%           0.000000\n",
       "50%           0.000000\n",
       "75%           1.000000\n",
       "max           2.000000\n",
       "Name: Recovered, dtype: float64"
      ]
     },
     "execution_count": 26,
     "metadata": {},
     "output_type": "execute_result"
    }
   ],
   "source": [
    "df['Recovered'].describe()"
   ]
  },
  {
   "cell_type": "code",
   "execution_count": 27,
   "metadata": {},
   "outputs": [
    {
     "data": {
      "image/png": "[encoded data removed]",
      "text/plain": [
       "<matplotlib.figure.Figure at 0x7fc45afd27f0>"
      ]
     },
     "metadata": {
      "needs_background": "light"
     },
     "output_type": "display_data"
    }
   ],
   "source": [
    "df['Recovered'].hist(bins=2)\n",
    "plt.show()"
   ]
  },
  {
   "cell_type": "markdown",
   "metadata": {},
   "source": [
    "#### Per CCD Channel Recovered Matrix"
   ]
  },
  {
   "cell_type": "code",
   "execution_count": 157,
   "metadata": {},
   "outputs": [
    {
     "data": {
      "image/png": "[encoded data removed]",
      "text/plain": [
       "<Figure size 720x720 with 1 Axes>"
      ]
     },
     "metadata": {},
     "output_type": "display_data"
    }
   ],
   "source": [
    "rec_mat = [[0 for i in range(10)] for j in range(10)]\n",
    "\n",
    "rec_ratio = {}\n",
    "for x in df[df['Recovered'] != 2].groupby(['Sky_Group', 'Recovered']):\n",
    "    if x[0][0] not in rec_ratio: rec_ratio[x[0][0]] = {}\n",
    "    rec_ratio[x[0][0]][x[0][1]] = len(x[1])\n",
    "\n",
    "for idx in rec_ratio:\n",
    "    cord = cord_map[idx]\n",
    "    ratio = rec_ratio[idx][1] / rec_ratio[idx][0]\n",
    "    # print(idx, cord, ratio)\n",
    "    rec_mat[cord[0]][cord[1]] = ratio\n",
    "\n",
    "fig, ax = plt.subplots(figsize=(10,10))\n",
    "ax.matshow(np.array(rec_mat))\n",
    "\n",
    "for (i, j), z in np.ndenumerate(np.array(rec_mat)):\n",
    "    ax.text(j, i, '{:0.3f}'.format(z), ha='center', va='center', fontsize=8, color='w')\n",
    "plt.title('Sky_Group Per CCD Channel Recovered Ratio')\n",
    "plt.show()"
   ]
  }
 ],
 "metadata": {
  "kernelspec": {
   "display_name": "Python 3",
   "language": "python",
   "name": "python3"
  },
  "language_info": {
   "codemirror_mode": {
    "name": "ipython",
    "version": 3
   },
   "file_extension": ".py",
   "mimetype": "text/x-python",
   "name": "python",
   "nbconvert_exporter": "python",
   "pygments_lexer": "ipython3",
   "version": "3.6.5"
  }
 },
 "nbformat": 4,
 "nbformat_minor": 2
}
