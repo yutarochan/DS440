{
 "cells": [
  {
   "cell_type": "markdown",
   "metadata": {},
   "source": [
    "# Phase 2: Model Analysis"
   ]
  },
  {
   "cell_type": "code",
   "execution_count": 36,
   "metadata": {},
   "outputs": [],
   "source": [
    "from __future__ import print_function\n",
    "import sys\n",
    "import math\n",
    "import random\n",
    "import pprint\n",
    "import numpy as np\n",
    "import pandas as pd\n",
    "from astropy.io import ascii\n",
    "\n",
    "from sklearn.decomposition import PCA\n",
    "from sklearn.preprocessing import StandardScaler"
   ]
  },
  {
   "cell_type": "code",
   "execution_count": 37,
   "metadata": {},
   "outputs": [],
   "source": [
    "def _impute(self, X):\n",
    "    print (\">> Impute, Factorize, and Scale Features\")\n",
    "    for c in X.columns:\n",
    "        if X[c].dtype == 'object':\n",
    "            X[c] = X[c].fillna(-1)\n",
    "            X[c] = pd.factorize(X[c], sort=True)[0]\n",
    "        if X[c].dtype == np.float64:\n",
    "            X[c] = X[c].astype(np.float32)\n",
    "            X[c] = X[c].fillna(-999)\n",
    "            rscaler = StandardScaler()\n",
    "            X[c] = rscaler.fit_transform(X[c].values.reshape(-1,1))\n",
    "\n",
    "    return X"
   ]
  },
  {
   "cell_type": "code",
   "execution_count": 38,
   "metadata": {},
   "outputs": [],
   "source": [
    "# Load Dataset\n",
    "df = ascii.read('../data/raw/tces/kplr_dr25_inj1_tces.txt').to_pandas()\n",
    "df.head()\n",
    "\n",
    "# CHANGE HERE: Filter Data by Neg Type\n",
    "df = df[(df.NTL == 1) | (df.Disp == 'PC')]\n",
    "\n",
    "# Augment Target Value Encoding\n",
    "features = [\"period\", \"epoch\", \"Expected_MES\", \"NTran\", \"depth\", \"duration\", \"Rp\", \"Rs\", \"Ts\", \"logg\", \"a\", \"Rp/Rs\", \"a/Rs\", \"impact\", \"SNR_DV\", \"Fit_Prov\"]\n",
    "df['Disp'].replace('FP', 0, inplace=True)\n",
    "df['Disp'].replace('PC', 1, inplace=True)\n",
    "\n",
    "# Extract Feature & Targets\n",
    "X = df[features]\n",
    "y = df['Disp']"
   ]
  }
 ],
 "metadata": {
  "kernelspec": {
   "display_name": "Python 3",
   "language": "python",
   "name": "python3"
  },
  "language_info": {
   "codemirror_mode": {
    "name": "ipython",
    "version": 3
   },
   "file_extension": ".py",
   "mimetype": "text/x-python",
   "name": "python",
   "nbconvert_exporter": "python",
   "pygments_lexer": "ipython3",
   "version": "3.6.5"
  }
 },
 "nbformat": 4,
 "nbformat_minor": 2
}
