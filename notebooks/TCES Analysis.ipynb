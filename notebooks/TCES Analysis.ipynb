{
 "cells": [
  {
   "cell_type": "markdown",
   "metadata": {},
   "source": [
    "# Robovetter TCES Injection Analysis"
   ]
  },
  {
   "cell_type": "code",
   "execution_count": 50,
   "metadata": {},
   "outputs": [],
   "source": [
    "import numpy as np\n",
    "import pandas as pd\n",
    "from astropy.io import ascii\n",
    "import matplotlib.pyplot as plt"
   ]
  },
  {
   "cell_type": "code",
   "execution_count": 3,
   "metadata": {},
   "outputs": [
    {
     "data": {
      "text/html": [
       "<div>\n",
       "<style scoped>\n",
       "    .dataframe tbody tr th:only-of-type {\n",
       "        vertical-align: middle;\n",
       "    }\n",
       "\n",
       "    .dataframe tbody tr th {\n",
       "        vertical-align: top;\n",
       "    }\n",
       "\n",
       "    .dataframe thead th {\n",
       "        text-align: right;\n",
       "    }\n",
       "</style>\n",
       "<table border=\"1\" class=\"dataframe\">\n",
       "  <thead>\n",
       "    <tr style=\"text-align: right;\">\n",
       "      <th></th>\n",
       "      <th>TCE_ID</th>\n",
       "      <th>KIC</th>\n",
       "      <th>Disp</th>\n",
       "      <th>Score</th>\n",
       "      <th>NTL</th>\n",
       "      <th>SS</th>\n",
       "      <th>CO</th>\n",
       "      <th>EM</th>\n",
       "      <th>period</th>\n",
       "      <th>epoch</th>\n",
       "      <th>...</th>\n",
       "      <th>Rs</th>\n",
       "      <th>Ts</th>\n",
       "      <th>logg</th>\n",
       "      <th>a</th>\n",
       "      <th>Rp/Rs</th>\n",
       "      <th>a/Rs</th>\n",
       "      <th>impact</th>\n",
       "      <th>SNR_DV</th>\n",
       "      <th>Sp</th>\n",
       "      <th>Fit_Prov</th>\n",
       "    </tr>\n",
       "  </thead>\n",
       "  <tbody>\n",
       "    <tr>\n",
       "      <th>0</th>\n",
       "      <td>000757280-01</td>\n",
       "      <td>757280</td>\n",
       "      <td>PC</td>\n",
       "      <td>0.332</td>\n",
       "      <td>0</td>\n",
       "      <td>0</td>\n",
       "      <td>0</td>\n",
       "      <td>0</td>\n",
       "      <td>380.920455</td>\n",
       "      <td>419.079229</td>\n",
       "      <td>...</td>\n",
       "      <td>1.638</td>\n",
       "      <td>6543</td>\n",
       "      <td>4.082</td>\n",
       "      <td>1.08759</td>\n",
       "      <td>0.013436</td>\n",
       "      <td>135.22</td>\n",
       "      <td>0.6928</td>\n",
       "      <td>8.2</td>\n",
       "      <td>3.725</td>\n",
       "      <td>1</td>\n",
       "    </tr>\n",
       "    <tr>\n",
       "      <th>1</th>\n",
       "      <td>000891916-01</td>\n",
       "      <td>891916</td>\n",
       "      <td>PC</td>\n",
       "      <td>1.000</td>\n",
       "      <td>0</td>\n",
       "      <td>0</td>\n",
       "      <td>0</td>\n",
       "      <td>0</td>\n",
       "      <td>202.818535</td>\n",
       "      <td>230.721419</td>\n",
       "      <td>...</td>\n",
       "      <td>0.741</td>\n",
       "      <td>5602</td>\n",
       "      <td>4.587</td>\n",
       "      <td>0.62037</td>\n",
       "      <td>0.040966</td>\n",
       "      <td>286.97</td>\n",
       "      <td>0.4324</td>\n",
       "      <td>18.6</td>\n",
       "      <td>1.259</td>\n",
       "      <td>1</td>\n",
       "    </tr>\n",
       "    <tr>\n",
       "      <th>2</th>\n",
       "      <td>000892195-01</td>\n",
       "      <td>892195</td>\n",
       "      <td>FP</td>\n",
       "      <td>0.005</td>\n",
       "      <td>0</td>\n",
       "      <td>0</td>\n",
       "      <td>1</td>\n",
       "      <td>0</td>\n",
       "      <td>192.790771</td>\n",
       "      <td>139.332186</td>\n",
       "      <td>...</td>\n",
       "      <td>1.668</td>\n",
       "      <td>5522</td>\n",
       "      <td>3.984</td>\n",
       "      <td>0.64846</td>\n",
       "      <td>0.015241</td>\n",
       "      <td>81.38</td>\n",
       "      <td>0.2219</td>\n",
       "      <td>12.2</td>\n",
       "      <td>5.512</td>\n",
       "      <td>1</td>\n",
       "    </tr>\n",
       "    <tr>\n",
       "      <th>3</th>\n",
       "      <td>000892667-01</td>\n",
       "      <td>892667</td>\n",
       "      <td>PC</td>\n",
       "      <td>0.812</td>\n",
       "      <td>0</td>\n",
       "      <td>0</td>\n",
       "      <td>0</td>\n",
       "      <td>0</td>\n",
       "      <td>182.637810</td>\n",
       "      <td>307.049488</td>\n",
       "      <td>...</td>\n",
       "      <td>1.654</td>\n",
       "      <td>6609</td>\n",
       "      <td>4.105</td>\n",
       "      <td>0.68251</td>\n",
       "      <td>0.016619</td>\n",
       "      <td>81.96</td>\n",
       "      <td>0.2869</td>\n",
       "      <td>13.3</td>\n",
       "      <td>10.039</td>\n",
       "      <td>1</td>\n",
       "    </tr>\n",
       "    <tr>\n",
       "      <th>4</th>\n",
       "      <td>000892678-01</td>\n",
       "      <td>892678</td>\n",
       "      <td>PC</td>\n",
       "      <td>0.797</td>\n",
       "      <td>0</td>\n",
       "      <td>0</td>\n",
       "      <td>0</td>\n",
       "      <td>0</td>\n",
       "      <td>142.708025</td>\n",
       "      <td>245.606837</td>\n",
       "      <td>...</td>\n",
       "      <td>1.889</td>\n",
       "      <td>6137</td>\n",
       "      <td>3.936</td>\n",
       "      <td>0.55566</td>\n",
       "      <td>0.011576</td>\n",
       "      <td>55.73</td>\n",
       "      <td>0.7000</td>\n",
       "      <td>12.3</td>\n",
       "      <td>14.688</td>\n",
       "      <td>1</td>\n",
       "    </tr>\n",
       "  </tbody>\n",
       "</table>\n",
       "<p>5 rows × 26 columns</p>\n",
       "</div>"
      ],
      "text/plain": [
       "         TCE_ID     KIC Disp  Score  NTL  SS  CO  EM      period       epoch  \\\n",
       "0  000757280-01  757280   PC  0.332    0   0   0   0  380.920455  419.079229   \n",
       "1  000891916-01  891916   PC  1.000    0   0   0   0  202.818535  230.721419   \n",
       "2  000892195-01  892195   FP  0.005    0   0   1   0  192.790771  139.332186   \n",
       "3  000892667-01  892667   PC  0.812    0   0   0   0  182.637810  307.049488   \n",
       "4  000892678-01  892678   PC  0.797    0   0   0   0  142.708025  245.606837   \n",
       "\n",
       "     ...        Rs    Ts   logg        a     Rp/Rs    a/Rs  impact  SNR_DV  \\\n",
       "0    ...     1.638  6543  4.082  1.08759  0.013436  135.22  0.6928     8.2   \n",
       "1    ...     0.741  5602  4.587  0.62037  0.040966  286.97  0.4324    18.6   \n",
       "2    ...     1.668  5522  3.984  0.64846  0.015241   81.38  0.2219    12.2   \n",
       "3    ...     1.654  6609  4.105  0.68251  0.016619   81.96  0.2869    13.3   \n",
       "4    ...     1.889  6137  3.936  0.55566  0.011576   55.73  0.7000    12.3   \n",
       "\n",
       "       Sp  Fit_Prov  \n",
       "0   3.725         1  \n",
       "1   1.259         1  \n",
       "2   5.512         1  \n",
       "3  10.039         1  \n",
       "4  14.688         1  \n",
       "\n",
       "[5 rows x 26 columns]"
      ]
     },
     "execution_count": 3,
     "metadata": {},
     "output_type": "execute_result"
    }
   ],
   "source": [
    "# Load Dataset\n",
    "df = ascii.read('../data/raw/tces/kplr_dr25_inj1_tces.txt').to_pandas()\n",
    "df.head()"
   ]
  },
  {
   "cell_type": "markdown",
   "metadata": {},
   "source": [
    "### Feature List"
   ]
  },
  {
   "cell_type": "code",
   "execution_count": 12,
   "metadata": {},
   "outputs": [
    {
     "data": {
      "text/plain": [
       "['TCE_ID',\n",
       " 'KIC',\n",
       " 'Disp',\n",
       " 'Score',\n",
       " 'NTL',\n",
       " 'SS',\n",
       " 'CO',\n",
       " 'EM',\n",
       " 'period',\n",
       " 'epoch',\n",
       " 'Expected_MES',\n",
       " 'MES',\n",
       " 'NTran',\n",
       " 'depth',\n",
       " 'duration',\n",
       " 'Rp',\n",
       " 'Rs',\n",
       " 'Ts',\n",
       " 'logg',\n",
       " 'a',\n",
       " 'Rp/Rs',\n",
       " 'a/Rs',\n",
       " 'impact',\n",
       " 'SNR_DV',\n",
       " 'Sp',\n",
       " 'Fit_Prov']"
      ]
     },
     "execution_count": 12,
     "metadata": {},
     "output_type": "execute_result"
    }
   ],
   "source": [
    "list(df.columns.values)"
   ]
  },
  {
   "cell_type": "markdown",
   "metadata": {},
   "source": [
    "### NaN Count\n",
    "Identify the count of NaN values in the dataset."
   ]
  },
  {
   "cell_type": "code",
   "execution_count": 13,
   "metadata": {},
   "outputs": [
    {
     "data": {
      "text/plain": [
       "TCE_ID          0\n",
       "KIC             0\n",
       "Disp            0\n",
       "Score           0\n",
       "NTL             0\n",
       "SS              0\n",
       "CO              0\n",
       "EM              0\n",
       "period          0\n",
       "epoch           0\n",
       "Expected_MES    0\n",
       "MES             0\n",
       "NTran           0\n",
       "depth           0\n",
       "duration        0\n",
       "Rp              0\n",
       "Rs              0\n",
       "Ts              0\n",
       "logg            0\n",
       "a               0\n",
       "Rp/Rs           0\n",
       "a/Rs            0\n",
       "impact          0\n",
       "SNR_DV          0\n",
       "Sp              0\n",
       "Fit_Prov        0\n",
       "dtype: int64"
      ]
     },
     "execution_count": 13,
     "metadata": {},
     "output_type": "execute_result"
    }
   ],
   "source": [
    "df.isna().sum()"
   ]
  },
  {
   "cell_type": "markdown",
   "metadata": {},
   "source": [
    "### Target Label Distribution"
   ]
  },
  {
   "cell_type": "code",
   "execution_count": 4,
   "metadata": {},
   "outputs": [
    {
     "data": {
      "text/plain": [
       "count     45377\n",
       "unique        2\n",
       "top          PC\n",
       "freq      38668\n",
       "Name: Disp, dtype: object"
      ]
     },
     "execution_count": 4,
     "metadata": {},
     "output_type": "execute_result"
    }
   ],
   "source": [
    "df['Disp'].describe()"
   ]
  },
  {
   "cell_type": "code",
   "execution_count": 11,
   "metadata": {},
   "outputs": [
    {
     "data": {
      "text/html": [
       "<div>\n",
       "<style scoped>\n",
       "    .dataframe tbody tr th:only-of-type {\n",
       "        vertical-align: middle;\n",
       "    }\n",
       "\n",
       "    .dataframe tbody tr th {\n",
       "        vertical-align: top;\n",
       "    }\n",
       "\n",
       "    .dataframe thead th {\n",
       "        text-align: right;\n",
       "    }\n",
       "</style>\n",
       "<table border=\"1\" class=\"dataframe\">\n",
       "  <thead>\n",
       "    <tr style=\"text-align: right;\">\n",
       "      <th></th>\n",
       "      <th>TCE_ID</th>\n",
       "      <th>KIC</th>\n",
       "      <th>Disp</th>\n",
       "      <th>Score</th>\n",
       "      <th>NTL</th>\n",
       "      <th>SS</th>\n",
       "      <th>CO</th>\n",
       "      <th>EM</th>\n",
       "      <th>period</th>\n",
       "      <th>epoch</th>\n",
       "      <th>...</th>\n",
       "      <th>Rs</th>\n",
       "      <th>Ts</th>\n",
       "      <th>logg</th>\n",
       "      <th>a</th>\n",
       "      <th>Rp/Rs</th>\n",
       "      <th>a/Rs</th>\n",
       "      <th>impact</th>\n",
       "      <th>SNR_DV</th>\n",
       "      <th>Sp</th>\n",
       "      <th>Fit_Prov</th>\n",
       "    </tr>\n",
       "  </thead>\n",
       "  <tbody>\n",
       "    <tr>\n",
       "      <th>0</th>\n",
       "      <td>000757280-01</td>\n",
       "      <td>757280</td>\n",
       "      <td>1</td>\n",
       "      <td>0.332</td>\n",
       "      <td>0</td>\n",
       "      <td>0</td>\n",
       "      <td>0</td>\n",
       "      <td>0</td>\n",
       "      <td>380.920455</td>\n",
       "      <td>419.079229</td>\n",
       "      <td>...</td>\n",
       "      <td>1.638</td>\n",
       "      <td>6543</td>\n",
       "      <td>4.082</td>\n",
       "      <td>1.08759</td>\n",
       "      <td>0.013436</td>\n",
       "      <td>135.22</td>\n",
       "      <td>0.6928</td>\n",
       "      <td>8.2</td>\n",
       "      <td>3.725</td>\n",
       "      <td>1</td>\n",
       "    </tr>\n",
       "    <tr>\n",
       "      <th>1</th>\n",
       "      <td>000891916-01</td>\n",
       "      <td>891916</td>\n",
       "      <td>1</td>\n",
       "      <td>1.000</td>\n",
       "      <td>0</td>\n",
       "      <td>0</td>\n",
       "      <td>0</td>\n",
       "      <td>0</td>\n",
       "      <td>202.818535</td>\n",
       "      <td>230.721419</td>\n",
       "      <td>...</td>\n",
       "      <td>0.741</td>\n",
       "      <td>5602</td>\n",
       "      <td>4.587</td>\n",
       "      <td>0.62037</td>\n",
       "      <td>0.040966</td>\n",
       "      <td>286.97</td>\n",
       "      <td>0.4324</td>\n",
       "      <td>18.6</td>\n",
       "      <td>1.259</td>\n",
       "      <td>1</td>\n",
       "    </tr>\n",
       "    <tr>\n",
       "      <th>2</th>\n",
       "      <td>000892195-01</td>\n",
       "      <td>892195</td>\n",
       "      <td>0</td>\n",
       "      <td>0.005</td>\n",
       "      <td>0</td>\n",
       "      <td>0</td>\n",
       "      <td>1</td>\n",
       "      <td>0</td>\n",
       "      <td>192.790771</td>\n",
       "      <td>139.332186</td>\n",
       "      <td>...</td>\n",
       "      <td>1.668</td>\n",
       "      <td>5522</td>\n",
       "      <td>3.984</td>\n",
       "      <td>0.64846</td>\n",
       "      <td>0.015241</td>\n",
       "      <td>81.38</td>\n",
       "      <td>0.2219</td>\n",
       "      <td>12.2</td>\n",
       "      <td>5.512</td>\n",
       "      <td>1</td>\n",
       "    </tr>\n",
       "    <tr>\n",
       "      <th>3</th>\n",
       "      <td>000892667-01</td>\n",
       "      <td>892667</td>\n",
       "      <td>1</td>\n",
       "      <td>0.812</td>\n",
       "      <td>0</td>\n",
       "      <td>0</td>\n",
       "      <td>0</td>\n",
       "      <td>0</td>\n",
       "      <td>182.637810</td>\n",
       "      <td>307.049488</td>\n",
       "      <td>...</td>\n",
       "      <td>1.654</td>\n",
       "      <td>6609</td>\n",
       "      <td>4.105</td>\n",
       "      <td>0.68251</td>\n",
       "      <td>0.016619</td>\n",
       "      <td>81.96</td>\n",
       "      <td>0.2869</td>\n",
       "      <td>13.3</td>\n",
       "      <td>10.039</td>\n",
       "      <td>1</td>\n",
       "    </tr>\n",
       "    <tr>\n",
       "      <th>4</th>\n",
       "      <td>000892678-01</td>\n",
       "      <td>892678</td>\n",
       "      <td>1</td>\n",
       "      <td>0.797</td>\n",
       "      <td>0</td>\n",
       "      <td>0</td>\n",
       "      <td>0</td>\n",
       "      <td>0</td>\n",
       "      <td>142.708025</td>\n",
       "      <td>245.606837</td>\n",
       "      <td>...</td>\n",
       "      <td>1.889</td>\n",
       "      <td>6137</td>\n",
       "      <td>3.936</td>\n",
       "      <td>0.55566</td>\n",
       "      <td>0.011576</td>\n",
       "      <td>55.73</td>\n",
       "      <td>0.7000</td>\n",
       "      <td>12.3</td>\n",
       "      <td>14.688</td>\n",
       "      <td>1</td>\n",
       "    </tr>\n",
       "  </tbody>\n",
       "</table>\n",
       "<p>5 rows × 26 columns</p>\n",
       "</div>"
      ],
      "text/plain": [
       "         TCE_ID     KIC Disp  Score  NTL  SS  CO  EM      period       epoch  \\\n",
       "0  000757280-01  757280    1  0.332    0   0   0   0  380.920455  419.079229   \n",
       "1  000891916-01  891916    1  1.000    0   0   0   0  202.818535  230.721419   \n",
       "2  000892195-01  892195    0  0.005    0   0   1   0  192.790771  139.332186   \n",
       "3  000892667-01  892667    1  0.812    0   0   0   0  182.637810  307.049488   \n",
       "4  000892678-01  892678    1  0.797    0   0   0   0  142.708025  245.606837   \n",
       "\n",
       "     ...        Rs    Ts   logg        a     Rp/Rs    a/Rs  impact  SNR_DV  \\\n",
       "0    ...     1.638  6543  4.082  1.08759  0.013436  135.22  0.6928     8.2   \n",
       "1    ...     0.741  5602  4.587  0.62037  0.040966  286.97  0.4324    18.6   \n",
       "2    ...     1.668  5522  3.984  0.64846  0.015241   81.38  0.2219    12.2   \n",
       "3    ...     1.654  6609  4.105  0.68251  0.016619   81.96  0.2869    13.3   \n",
       "4    ...     1.889  6137  3.936  0.55566  0.011576   55.73  0.7000    12.3   \n",
       "\n",
       "       Sp  Fit_Prov  \n",
       "0   3.725         1  \n",
       "1   1.259         1  \n",
       "2   5.512         1  \n",
       "3  10.039         1  \n",
       "4  14.688         1  \n",
       "\n",
       "[5 rows x 26 columns]"
      ]
     },
     "execution_count": 11,
     "metadata": {},
     "output_type": "execute_result"
    }
   ],
   "source": [
    "# Target Label Replacement Routine\n",
    "df['Disp'].replace('FP', '0', inplace=True)\n",
    "df['Disp'].replace('PC', '1', inplace=True)\n",
    "df.head()"
   ]
  },
  {
   "cell_type": "markdown",
   "metadata": {},
   "source": [
    "### Score"
   ]
  },
  {
   "cell_type": "code",
   "execution_count": 14,
   "metadata": {},
   "outputs": [
    {
     "data": {
      "text/plain": [
       "count    45377.000000\n",
       "mean         0.740252\n",
       "std          0.317874\n",
       "min          0.000000\n",
       "25%          0.615000\n",
       "50%          0.889000\n",
       "75%          0.976000\n",
       "max          1.000000\n",
       "Name: Score, dtype: float64"
      ]
     },
     "execution_count": 14,
     "metadata": {},
     "output_type": "execute_result"
    }
   ],
   "source": [
    "df['Score'].describe()"
   ]
  },
  {
   "cell_type": "code",
   "execution_count": 16,
   "metadata": {},
   "outputs": [
    {
     "data": {
      "text/plain": [
       "<matplotlib.axes._subplots.AxesSubplot at 0x1206a6128>"
      ]
     },
     "execution_count": 16,
     "metadata": {},
     "output_type": "execute_result"
    },
    {
     "data": {
      "image/png": "[encoded data removed]",
      "text/plain": [
       "<Figure size 432x288 with 1 Axes>"
      ]
     },
     "metadata": {},
     "output_type": "display_data"
    }
   ],
   "source": [
    "df['Score'].hist()"
   ]
  },
  {
   "cell_type": "code",
   "execution_count": 48,
   "metadata": {},
   "outputs": [
    {
     "data": {
      "text/plain": [
       "Disp\n",
       "0    AxesSubplot(0.125,0.125;0.775x0.755)\n",
       "1    AxesSubplot(0.125,0.125;0.775x0.755)\n",
       "Name: Score, dtype: object"
      ]
     },
     "execution_count": 48,
     "metadata": {},
     "output_type": "execute_result"
    },
    {
     "data": {
      "image/png": "[encoded data removed]",
      "text/plain": [
       "<Figure size 432x288 with 1 Axes>"
      ]
     },
     "metadata": {},
     "output_type": "display_data"
    }
   ],
   "source": [
    "df.groupby('Disp')['Score'].hist(alpha=0.3)"
   ]
  },
  {
   "cell_type": "code",
   "execution_count": 25,
   "metadata": {},
   "outputs": [
    {
     "data": {
      "image/png": "[encoded data removed]",
      "text/plain": [
       "<Figure size 432x288 with 1 Axes>"
      ]
     },
     "metadata": {},
     "output_type": "display_data"
    }
   ],
   "source": [
    "plt.scatter(df['Score'], df['Disp'], s=2)\n",
    "plt.title('RV Confidence Score vs Disp')\n",
    "plt.show()"
   ]
  },
  {
   "cell_type": "markdown",
   "metadata": {},
   "source": [
    "### FP Categories"
   ]
  },
  {
   "cell_type": "code",
   "execution_count": 40,
   "metadata": {},
   "outputs": [
    {
     "data": {
      "text/html": [
       "<div>\n",
       "<style scoped>\n",
       "    .dataframe tbody tr th:only-of-type {\n",
       "        vertical-align: middle;\n",
       "    }\n",
       "\n",
       "    .dataframe tbody tr th {\n",
       "        vertical-align: top;\n",
       "    }\n",
       "\n",
       "    .dataframe thead th {\n",
       "        text-align: right;\n",
       "    }\n",
       "</style>\n",
       "<table border=\"1\" class=\"dataframe\">\n",
       "  <thead>\n",
       "    <tr style=\"text-align: right;\">\n",
       "      <th></th>\n",
       "      <th>NTL</th>\n",
       "      <th>CO</th>\n",
       "      <th>SS</th>\n",
       "      <th>EM</th>\n",
       "    </tr>\n",
       "  </thead>\n",
       "  <tbody>\n",
       "    <tr>\n",
       "      <th>NTL</th>\n",
       "      <td>5303</td>\n",
       "      <td>196</td>\n",
       "      <td>0</td>\n",
       "      <td>2</td>\n",
       "    </tr>\n",
       "    <tr>\n",
       "      <th>CO</th>\n",
       "      <td>196</td>\n",
       "      <td>1021</td>\n",
       "      <td>13</td>\n",
       "      <td>1</td>\n",
       "    </tr>\n",
       "    <tr>\n",
       "      <th>SS</th>\n",
       "      <td>0</td>\n",
       "      <td>13</td>\n",
       "      <td>576</td>\n",
       "      <td>0</td>\n",
       "    </tr>\n",
       "    <tr>\n",
       "      <th>EM</th>\n",
       "      <td>2</td>\n",
       "      <td>1</td>\n",
       "      <td>0</td>\n",
       "      <td>23</td>\n",
       "    </tr>\n",
       "  </tbody>\n",
       "</table>\n",
       "</div>"
      ],
      "text/plain": [
       "      NTL    CO   SS  EM\n",
       "NTL  5303   196    0   2\n",
       "CO    196  1021   13   1\n",
       "SS      0    13  576   0\n",
       "EM      2     1    0  23"
      ]
     },
     "execution_count": 40,
     "metadata": {},
     "output_type": "execute_result"
    }
   ],
   "source": [
    "# FP Co-Occurence Matrix\n",
    "cat = ['NTL', 'CO', 'SS', 'EM']\n",
    "fp_cat = df[cat]\n",
    "fp_com = fp_cat.T.dot(fp_cat)\n",
    "fp_com"
   ]
  },
  {
   "cell_type": "markdown",
   "metadata": {},
   "source": [
    "### Period"
   ]
  },
  {
   "cell_type": "code",
   "execution_count": 42,
   "metadata": {},
   "outputs": [
    {
     "data": {
      "text/plain": [
       "count    45377.000000\n",
       "mean       219.799923\n",
       "std        138.374036\n",
       "min          0.506997\n",
       "25%         97.826114\n",
       "50%        210.995262\n",
       "75%        331.259525\n",
       "max        707.453529\n",
       "Name: period, dtype: float64"
      ]
     },
     "execution_count": 42,
     "metadata": {},
     "output_type": "execute_result"
    }
   ],
   "source": [
    "df['period'].describe()"
   ]
  },
  {
   "cell_type": "code",
   "execution_count": 43,
   "metadata": {},
   "outputs": [
    {
     "data": {
      "text/plain": [
       "<matplotlib.axes._subplots.AxesSubplot at 0x10fe22c50>"
      ]
     },
     "execution_count": 43,
     "metadata": {},
     "output_type": "execute_result"
    },
    {
     "data": {
      "image/png": "[encoded data removed]",
      "text/plain": [
       "<Figure size 432x288 with 1 Axes>"
      ]
     },
     "metadata": {},
     "output_type": "display_data"
    }
   ],
   "source": [
    "df['period'].hist()"
   ]
  },
  {
   "cell_type": "code",
   "execution_count": 47,
   "metadata": {},
   "outputs": [
    {
     "data": {
      "text/plain": [
       "Disp\n",
       "0    AxesSubplot(0.125,0.125;0.775x0.755)\n",
       "1    AxesSubplot(0.125,0.125;0.775x0.755)\n",
       "Name: period, dtype: object"
      ]
     },
     "execution_count": 47,
     "metadata": {},
     "output_type": "execute_result"
    },
    {
     "data": {
      "image/png": "[encoded data removed]",
      "text/plain": [
       "<Figure size 432x288 with 1 Axes>"
      ]
     },
     "metadata": {},
     "output_type": "display_data"
    }
   ],
   "source": [
    "df.groupby('Disp')['period'].hist(alpha=0.3)"
   ]
  },
  {
   "cell_type": "markdown",
   "metadata": {},
   "source": [
    "### Epoch"
   ]
  },
  {
   "cell_type": "code",
   "execution_count": 60,
   "metadata": {},
   "outputs": [
    {
     "data": {
      "text/plain": [
       "count    45377.000000\n",
       "mean       235.714712\n",
       "std         97.411422\n",
       "min        131.505622\n",
       "25%        157.487289\n",
       "50%        205.242192\n",
       "75%        287.132486\n",
       "max        613.456697\n",
       "Name: epoch, dtype: float64"
      ]
     },
     "execution_count": 60,
     "metadata": {},
     "output_type": "execute_result"
    }
   ],
   "source": [
    "df['epoch'].describe()"
   ]
  },
  {
   "cell_type": "code",
   "execution_count": 62,
   "metadata": {},
   "outputs": [
    {
     "data": {
      "text/plain": [
       "<matplotlib.axes._subplots.AxesSubplot at 0x1216155f8>"
      ]
     },
     "execution_count": 62,
     "metadata": {},
     "output_type": "execute_result"
    },
    {
     "data": {
      "image/png": "[encoded data removed]",
      "text/plain": [
       "<Figure size 432x288 with 1 Axes>"
      ]
     },
     "metadata": {},
     "output_type": "display_data"
    }
   ],
   "source": [
    "df['epoch'].hist()"
   ]
  },
  {
   "cell_type": "code",
   "execution_count": 65,
   "metadata": {},
   "outputs": [
    {
     "data": {
      "text/plain": [
       "Disp\n",
       "0    AxesSubplot(0.125,0.125;0.775x0.755)\n",
       "1    AxesSubplot(0.125,0.125;0.775x0.755)\n",
       "Name: epoch, dtype: object"
      ]
     },
     "execution_count": 65,
     "metadata": {},
     "output_type": "execute_result"
    },
    {
     "data": {
      "image/png": "[encoded data removed]",
      "text/plain": [
       "<Figure size 432x288 with 1 Axes>"
      ]
     },
     "metadata": {},
     "output_type": "display_data"
    }
   ],
   "source": [
    "df.groupby('Disp')['epoch'].hist(alpha=0.3)"
   ]
  },
  {
   "cell_type": "code",
   "execution_count": 74,
   "metadata": {},
   "outputs": [
    {
     "data": {
      "text/plain": [
       "<matplotlib.axes._subplots.AxesSubplot at 0x1219d1ef0>"
      ]
     },
     "execution_count": 74,
     "metadata": {},
     "output_type": "execute_result"
    },
    {
     "data": {
      "image/png": "[encoded data removed]",
      "text/plain": [
       "<Figure size 432x288 with 1 Axes>"
      ]
     },
     "metadata": {},
     "output_type": "display_data"
    }
   ],
   "source": [
    "# Perform Log Transformation on Data\n",
    "df['epoch'].transform(np.log).hist()"
   ]
  },
  {
   "cell_type": "markdown",
   "metadata": {},
   "source": [
    "### Expected MES"
   ]
  },
  {
   "cell_type": "code",
   "execution_count": 76,
   "metadata": {},
   "outputs": [
    {
     "data": {
      "text/plain": [
       "count    45377.000000\n",
       "mean        12.873630\n",
       "std          8.154413\n",
       "min          2.889600\n",
       "25%          9.462200\n",
       "50%         11.249400\n",
       "75%         13.403300\n",
       "max        259.054600\n",
       "Name: Expected_MES, dtype: float64"
      ]
     },
     "execution_count": 76,
     "metadata": {},
     "output_type": "execute_result"
    }
   ],
   "source": [
    "df['Expected_MES'].describe()"
   ]
  },
  {
   "cell_type": "code",
   "execution_count": 77,
   "metadata": {},
   "outputs": [
    {
     "data": {
      "text/plain": [
       "<matplotlib.axes._subplots.AxesSubplot at 0x121c96320>"
      ]
     },
     "execution_count": 77,
     "metadata": {},
     "output_type": "execute_result"
    },
    {
     "data": {
      "image/png": "[encoded data removed]",
      "text/plain": [
       "<Figure size 432x288 with 1 Axes>"
      ]
     },
     "metadata": {},
     "output_type": "display_data"
    }
   ],
   "source": [
    "df['Expected_MES'].hist()"
   ]
  },
  {
   "cell_type": "code",
   "execution_count": 78,
   "metadata": {},
   "outputs": [
    {
     "data": {
      "text/plain": [
       "Disp\n",
       "0    AxesSubplot(0.125,0.125;0.775x0.755)\n",
       "1    AxesSubplot(0.125,0.125;0.775x0.755)\n",
       "Name: Expected_MES, dtype: object"
      ]
     },
     "execution_count": 78,
     "metadata": {},
     "output_type": "execute_result"
    },
    {
     "data": {
      "image/png": "[encoded data removed]",
      "text/plain": [
       "<Figure size 432x288 with 1 Axes>"
      ]
     },
     "metadata": {},
     "output_type": "display_data"
    }
   ],
   "source": [
    "df.groupby('Disp')['Expected_MES'].hist(alpha=0.3)"
   ]
  },
  {
   "cell_type": "code",
   "execution_count": 79,
   "metadata": {},
   "outputs": [
    {
     "data": {
      "text/plain": [
       "<matplotlib.axes._subplots.AxesSubplot at 0x121f6a6d8>"
      ]
     },
     "execution_count": 79,
     "metadata": {},
     "output_type": "execute_result"
    },
    {
     "data": {
      "image/png": "[encoded data removed]",
      "text/plain": [
       "<Figure size 432x288 with 1 Axes>"
      ]
     },
     "metadata": {},
     "output_type": "display_data"
    }
   ],
   "source": [
    "df['Expected_MES'].transform(np.log).hist()"
   ]
  }
 ],
 "metadata": {
  "kernelspec": {
   "display_name": "Python 3",
   "language": "python",
   "name": "python3"
  },
  "language_info": {
   "codemirror_mode": {
    "name": "ipython",
    "version": 3
   },
   "file_extension": ".py",
   "mimetype": "text/x-python",
   "name": "python",
   "nbconvert_exporter": "python",
   "pygments_lexer": "ipython3",
   "version": "3.6.5"
  }
 },
 "nbformat": 4,
 "nbformat_minor": 2
}
